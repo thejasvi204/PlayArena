{
  "cells": [
    {
      "cell_type": "markdown",
      "metadata": {
        "id": "ZqMSLhmJI5LB"
      },
      "source": [
        "IOT Project - Sports Analytics (PlayArena)\n",
        "\n",
        "\n",
        "*  Sohil Grandhi (ssg5428)\n",
        "* Harshita Coneri (hpc5303)\n",
        "* Thejasvi Velaga (tfv5097)\n",
        "* Tanuj Namdeo (tpn5218)\n",
        "\n",
        "\n"
      ]
    },
    {
      "cell_type": "markdown",
      "metadata": {
        "id": "1r1OJhmfI6RI"
      },
      "source": [
        "**Problem Statement**  : Bat tracking (tennis, baseball, cricket) in 3D with embedded inertial sensors and/or ultrasound/RF sensors. Can you also detect the location on the bat where the ball hits?"
      ]
    },
    {
      "cell_type": "markdown",
      "metadata": {
        "id": "e4dkXfVjI1BJ"
      },
      "source": [
        "Importing required packages"
      ]
    },
    {
      "cell_type": "code",
      "execution_count": 347,
      "metadata": {
        "id": "wA4NKqHyPIqT",
        "colab": {
          "base_uri": "https://localhost:8080/",
          "height": 34
        },
        "outputId": "093eb33a-a86d-4552-af7f-44482ce91254"
      },
      "outputs": [
        {
          "output_type": "display_data",
          "data": {
            "text/plain": [
              "<Figure size 640x480 with 0 Axes>"
            ]
          },
          "metadata": {}
        }
      ],
      "source": [
        "import csv\n",
        "import pandas as pd\n",
        "import os\n",
        "import time\n",
        "import cv2\n",
        "import math\n",
        "import numpy as np\n",
        "import matplotlib.pyplot as plt\n",
        "%matplotlib inline\n",
        "import seaborn as sns\n",
        "from matplotlib.pyplot import figure\n",
        "\n",
        "figure(figsize=(8, 6), dpi=80)\n",
        "from datetime import datetime, timedelta,timezone\n",
        "import matplotlib.dates as mdates\n",
        "import sklearn.model_selection\n",
        "import random as python_random\n",
        "from PIL import Image\n",
        "from sklearn.utils import resample\n",
        "from numpy import mean,std\n",
        "import itertools\n",
        "from itertools import combinations\n",
        "import pickle\n",
        "# fix random seed for reproducibility\n",
        "from numpy.random import seed\n",
        "#metrics\n",
        "from sklearn.metrics import r2_score,accuracy_score,f1_score,mean_squared_error,mean_absolute_error,classification_report, confusion_matrix, roc_auc_score\n",
        "# preprocessing\n",
        "from sklearn.preprocessing import OrdinalEncoder,LabelEncoder,MinMaxScaler,StandardScaler\n",
        "from keras.preprocessing import sequence\n",
        "from tensorflow.keras.utils import to_categorical\n",
        "# feature and model selection\n",
        "from sklearn.model_selection import StratifiedKFold, KFold,GroupKFold,cross_val_score,GridSearchCV,train_test_split,cross_validate\n",
        "# models\n",
        "from sklearn.neighbors import KNeighborsClassifier,KNeighborsRegressor\n",
        "from sklearn.svm import SVR,SVC\n",
        "from sklearn.cluster import KMeans\n",
        "from sklearn.ensemble import RandomForestClassifier,RandomForestRegressor\n",
        "from xgboost import XGBClassifier\n",
        "from sklearn.neural_network import MLPClassifier\n",
        "from sklearn.ensemble import ExtraTreesClassifier,VotingClassifier\n",
        "\n",
        "# tf and nn models\n",
        "import tensorflow as tf\n",
        "from tensorflow import keras\n",
        "from tensorflow.keras import layers\n",
        "from keras.models import Sequential\n",
        "from keras.layers import Dense,LSTM,SimpleRNN,GRU,Dropout,Activation,Conv1D\n",
        "from keras import regularizers"
      ]
    },
    {
      "cell_type": "code",
      "source": [
        "# from google.colab import drive\n",
        "# drive.mount('/content/drive')"
      ],
      "metadata": {
        "id": "mHPGHwyDq2UO"
      },
      "execution_count": 348,
      "outputs": []
    },
    {
      "cell_type": "markdown",
      "metadata": {
        "id": "gmLa5yELHugH"
      },
      "source": [
        "Define constants"
      ]
    },
    {
      "cell_type": "code",
      "execution_count": 349,
      "metadata": {
        "id": "Ct9nZ6hAxbvR"
      },
      "outputs": [],
      "source": [
        "# file name\n",
        "file_1='/content/drive/MyDrive/IOT_Project/Data/11 13/data_1.txt'\n",
        "file_2='/content/drive/MyDrive/IOT_Project/Data/11 13/data_2.txt'\n",
        "\n",
        "# final data that is already exixts in drive path \n",
        "final_data_file =\"/content/drive/MyDrive/IOT_Project/code_base/Final_data/final_data.xlsx\"\n",
        "final_video_data_file =\"/content/drive/MyDrive/IOT_Project/code_base/Final_data/final_video_data.xlsx\"\n",
        "final_sensor_gt_data_file =\"/content/drive/MyDrive/IOT_Project/code_base/Final_data/final_sensor_gt_data.xlsx\"\n",
        "# shot images storage\n",
        "drive_path=\"/content/\"\n",
        "main_folder=\"images\"\n",
        "saved_model_path = \"drive/MyDrive/IOT_Project/code_base/Final_model/\"\n",
        "\n",
        "# model_names =[\"KNeighborsClassifier\", \"KNeighborsRegressor\",\"SVR\",\"SVC\",\"KMeans\",\"RFClassifier\",\"RFRegressor\",\"XGBoost\",\"MLP\",\"LSTM\"]\n",
        "# model_names =[\"KNeighborsClassifier\", \"KNeighborsRegressor\",\"SVR\",\"SVC\",\"KMeans\",\"RFClassifier\",\"RFRegressor\",\"XGBoost\",\"ExtraTreesClassifier\",\"MLPClassifier\"]\n",
        "model_names =[\"KNeighborsClassifier\",\"SVC\",\"KMeans\",\"RFClassifier\",\"XGBoost\",\"ExtraTreesClassifier\",\"MLPClassifier\"] # removed regression models\n",
        "saved_data_path = \"drive/MyDrive/IOT_Project/code_base/Final_data/\"\n",
        "saved_main_file_name=\"final_data.xlsx\"\n",
        "saved_video_file_name = \"final_video_data.xlsx\"\n",
        "saved_sensor_file_name = \"final_sensor_gt_data.xlsx\"\n",
        "\n",
        "#column names \n",
        "cols=['Date','Time','Date_Time','Date_Time_ms','ax','ay','az','wx','wy','wz','Anglex','Angley','Anglez']\n",
        "cols_main =['Time','Date_Time_ms','ax','ay','az','wx','wy','wz','Anglex','Angley','Anglez']\n",
        "cols_main_1 =['Time','ax','ay','az','wx','wy','wz','Anglex','Angley','Anglez']\n",
        "cols_main_2 =['shot_id','ax','ay','az','wx','wy','wz','Anglex','Angley','Anglez']\n",
        "cols_main_norm =['ax','ay','az','wx','wy','wz','Anglex','Angley','Anglez']\n",
        "\n",
        "# ground truth\n",
        "ground_truth_cols_main_1 =['shot_type']\n",
        "ground_truth_cols_main_2 =['shot_kind']\n",
        "ground_truth_cols =[ground_truth_cols_main_1,ground_truth_cols_main_2]\n",
        " # list for video related data\n",
        "\n",
        "record_date=\"2022-11-13\"\n",
        "# used for croping the shot data and sensor data\n",
        "video_granularity=16.683334\n",
        "sensor_granularity=97\n",
        "\n",
        "video_datapoints=60\n",
        "sensor_datapoints=11\n",
        "\n",
        "# shot timings on differtent vidoes\n",
        "video1_st = ['0.02','0.11','0.18','0.24','0.30','0.37','0.44','1.01','1.09','1.16','1.26']\n",
        "video1_et = ['0.03','0.12','0.19','0.25','0.31','0.38','0.45','1.02','1.10','1.17','1.27']\n",
        "video2_st = ['0.09','0.17','0.25','0.33','0.41','0.52','0.59','1.19','1.33','1.54','2.19','2.28','2.37']\n",
        "video2_et = ['0.10','0.18','0.26','0.34','0.42','0.53','1.01','1.20','1.34','1.55','2.20','2.29','2.38']\n",
        "video3_st = ['0.18','0.24','0.52','1.07','1.23','2.00','2.07','2.18','2.27','2.34','2.41','2.58','3.04','3.13','3.21','3.26','3.49','3.58','4.28','4.34','4.42','4.58','5.05','5.12','5.18','5.33','5.43','6.00','6.17','6.28','6.36','6.55','7.07','7.15','7.26']\n",
        "video3_et = ['0.19','0.25','0.53','1.08','1.24','2.01','2.08','2.19','2.28','2.35','2.42','2.59','3.05','3.14','3.22','3.27','3.50','3.59','4.29','4.35','4.44','4.59','5.06','5.13','5.19','5.34','5.44','6.01','6.18','6.29','6.37','6.56','7.08','7.16','7.27']\n",
        "video4_st = ['0.03','0.09']\n",
        "video4_et = ['0.04','0.10']\n",
        "video5_st = ['0.04','0.11','0.22','0.29','0.37','0.44','0.53','1.08','1.16','1.38','1.47','1.56','2.03','2.10','2.18','2.31','2.42','2.49','2.57','3.06','3.18','3.31','3.41','3.47','3.55','4.07','4.19']\n",
        "video5_et = ['0.05','0.12','0.23','0.30','0.38','0.45','0.54','1.09','1.17','1.39','1.48','1.57','2.04','2.11','2.19','2.32','2.43','2.50','2.58','3.07','3.19','3.32','3.42','3.48','3.56','4.08','4.20']\n",
        "\n",
        "\n",
        "video1_save_time =datetime.strptime(\"2022-11-13 14:18:22\", \"%Y-%m-%d %H:%M:%S\")\n",
        "video2_save_time =datetime.strptime(\"2022-11-13 14:21:45\", \"%Y-%m-%d %H:%M:%S\")\n",
        "video3_save_time =datetime.strptime(\"2022-11-13 14:26:34\", \"%Y-%m-%d %H:%M:%S\")\n",
        "video4_save_time =datetime.strptime(\"2022-11-13 14:34:45\", \"%Y-%m-%d %H:%M:%S\")\n",
        "video5_save_time =datetime.strptime(\"2022-11-13 14:35:15\", \"%Y-%m-%d %H:%M:%S\")\n",
        "\n",
        "video1_end_time =datetime.strptime(\"2022-11-13 14:20:35\", \"%Y-%m-%d %H:%M:%S\")\n",
        "video2_end_time =datetime.strptime(\"2022-11-13 14:24:52\", \"%Y-%m-%d %H:%M:%S\")\n",
        "video3_end_time =datetime.strptime(\"2022-11-13 14:34:31\", \"%Y-%m-%d %H:%M:%S\")\n",
        "video4_end_time =datetime.strptime(\"2022-11-13 14:35:10\", \"%Y-%m-%d %H:%M:%S\")\n",
        "video5_end_time =datetime.strptime(\"2022-11-13 14:39:52\", \"%Y-%m-%d %H:%M:%S\")\n",
        "\n",
        "sensor1_start_time=datetime.strptime(\"2022-11-13 14:18:24.396\", \"%Y-%m-%d %H:%M:%S.%f\")\n",
        "sensor2_start_time=datetime.strptime(\"2022-11-13 14:35:16.085\", \"%Y-%m-%d %H:%M:%S.%f\")\n",
        "\n",
        "videoFile_1 = '/content/drive/MyDrive/IOT_Project/video_recording/11 13/IMG_1138.MOV'\n",
        "videoFile_2 = '/content/drive/MyDrive/IOT_Project/video_recording/11 13/IMG_1139.MOV'\n",
        "videoFile_3 = '/content/drive/MyDrive/IOT_Project/video_recording/11 13/IMG_1140.MOV'\n",
        "videoFile_4 = '/content/drive/MyDrive/IOT_Project/video_recording/11 13/IMG_1141.MOV'\n",
        "videoFile_5 = '/content/drive/MyDrive/IOT_Project/video_recording/11 13/IMG_1142.MOV'\n"
      ]
    },
    {
      "cell_type": "markdown",
      "metadata": {
        "id": "S7mmReK_N9q6"
      },
      "source": [
        "Supporting functions"
      ]
    },
    {
      "cell_type": "code",
      "execution_count": 350,
      "metadata": {
        "colab": {
          "base_uri": "https://localhost:8080/"
        },
        "id": "pgRHUhG1fO2y",
        "outputId": "8e87225b-a02a-4798-acda-e4c970e355c7"
      },
      "outputs": [
        {
          "output_type": "stream",
          "name": "stdout",
          "text": [
            "Time in Seconds: 2410\n",
            "Time in Seconds: 315\n",
            "Time in Seconds: 32\n"
          ]
        }
      ],
      "source": [
        "def get_seconds(time_str):\n",
        "    # print('Time in hh:mm:ss:', time_str)\n",
        "    # split in hh, mm, ss\n",
        "    hh=0\n",
        "    mm, ss = time_str.split('.')\n",
        "    return int(hh) * 3600 + int(mm) * 60 + int(ss)\n",
        "\n",
        "print('Time in Seconds:', get_seconds('40.10'))\n",
        "print('Time in Seconds:', get_seconds('05.15'))\n",
        "print('Time in Seconds:', get_seconds('00.32'))"
      ]
    },
    {
      "cell_type": "code",
      "execution_count": 351,
      "metadata": {
        "id": "pxjeondbzhfw"
      },
      "outputs": [],
      "source": [
        "def shot_images():\n",
        "\n",
        "  #create a folder images for storing results,figures and model in drive\n",
        "  list_folders=[\"shot_1\"]\n",
        "\n",
        "  if os.path.isdir(drive_path):\n",
        "    if not os.path.exists(drive_path+main_folder):\n",
        "      os.makedirs(os.path.join(drive_path,main_folder))\n",
        "\n",
        "  if os.path.exists(drive_path+main_folder):\n",
        "    for folder in list_folders:\n",
        "      if not os.path.exists(drive_path+main_folder+\"/\"+folder):\n",
        "        os.mkdir(os.path.join(drive_path+main_folder+\"/\", folder))"
      ]
    },
    {
      "cell_type": "markdown",
      "source": [
        "Checking final sensor,video,ground data is in drive or not"
      ],
      "metadata": {
        "id": "OgIRv5OmF_6L"
      }
    },
    {
      "cell_type": "code",
      "source": [
        "def data_drive_check(drive_path,saved_data_path,saved_main_file_name=None,saved_video_file_name=None,saved_sensor_file_name=None):\n",
        "    hasData_seperate_file,hasData_final_file,isFinalData,isSensor,isVideo=False,False,False,False,False\n",
        "    if os.path.isdir(drive_path):\n",
        "      if os.path.exists(drive_path+saved_data_path+saved_main_file_name):\n",
        "        #os.makedirs(os.path.join(drive_path,main_folder))\n",
        "        isFinalData=True\n",
        "      if os.path.exists(drive_path+saved_data_path+saved_video_file_name):\n",
        "        isVideo=True\n",
        "      if os.path.exists(drive_path+saved_data_path+saved_sensor_file_name):\n",
        "        isSensor=True\n",
        "      \n",
        "      if (isFinalData== True):\n",
        "        hasData_final_file =True\n",
        "      if (isVideo == True and isSensor== True):\n",
        "        hasData_seperate_file = True\n",
        "      return hasData_final_file,hasData_seperate_file\n"
      ],
      "metadata": {
        "id": "kJR1mrGGCdNU"
      },
      "execution_count": 352,
      "outputs": []
    },
    {
      "cell_type": "markdown",
      "metadata": {
        "id": "PCmvXzJZ1oCH"
      },
      "source": [
        "# down sampling in order to add the video samples to train"
      ]
    },
    {
      "cell_type": "code",
      "execution_count": 353,
      "metadata": {
        "id": "o1UCOIYY1oRe"
      },
      "outputs": [],
      "source": [
        "def downsampling(final_video1_data_df,final_video2_data_df,final_video3_data_df,final_video5_data_df,final_sensor1_data,final_sensor2_data,final_sensor3_data,final_sensor5_data):\n",
        "  #video 1\n",
        "  final_video1_data_downsample = resample(final_video1_data_df,\n",
        "             replace=True,\n",
        "             n_samples=len(final_sensor1_data),\n",
        "             random_state=42)\n",
        "\n",
        "  #video 2\n",
        "  final_video2_data_downsample = resample(final_video2_data_df,\n",
        "             replace=True,\n",
        "             n_samples=len(final_sensor2_data),\n",
        "             random_state=42)\n",
        "  #video 3\n",
        "  final_video3_data_downsample = resample(final_video3_data_df,\n",
        "             replace=True,\n",
        "             n_samples=len(final_sensor3_data),\n",
        "             random_state=42)\n",
        "  #video 5\n",
        "  final_video5_data_downsample = resample(final_video5_data_df,\n",
        "             replace=True,\n",
        "             n_samples=len(final_sensor5_data),\n",
        "             random_state=42)\n",
        "  return final_video1_data_downsample,final_video2_data_downsample,final_video3_data_downsample,final_video5_data_downsample"
      ]
    },
    {
      "cell_type": "code",
      "execution_count": 354,
      "metadata": {
        "id": "bGkKoOQyYbFu"
      },
      "outputs": [],
      "source": [
        "# prepare target\n",
        "def prepare_targets(y_train, y_test):\n",
        "\tle = LabelEncoder()\n",
        "\tle.fit(y_train)\n",
        "\ty_train_enc = le.transform(y_train)\n",
        "\ty_test_enc = le.transform(y_test)\n",
        "\treturn y_train_enc, y_test_enc"
      ]
    },
    {
      "cell_type": "markdown",
      "metadata": {
        "id": "pxBKdd-QKX2B"
      },
      "source": [
        "We Used 9-axis IMU sensor that records gyroscope(),Accelerometer() and magnetometer().\n",
        "\n",
        "\n",
        "1.   We recorded first 60 shots of 2 players where each player played 30 shots which further divided into 10 : defense, 10:atatck, 10:random as sensor_data_1\n",
        "2.   We recorded 30 shots of player which further divided into 10 : defense, 10:atatck, 10:random\n",
        "\n"
      ]
    },
    {
      "cell_type": "markdown",
      "source": [
        "Sensor Data and video Reading"
      ],
      "metadata": {
        "id": "gAwlLtT4eIDY"
      }
    },
    {
      "cell_type": "code",
      "execution_count": 355,
      "metadata": {
        "id": "s9VN-WXVPQW6"
      },
      "outputs": [],
      "source": [
        "def data_reading():\n",
        " \n",
        " # import data\n",
        " Sensor_data_1_org = pd.read_csv (r'/content/drive/MyDrive/IOT_Project/Data/11 13/data_1.txt', skiprows=1,delim_whitespace=True,names=['Date','Time','chip','chip_time','ax','ay','az','wx','wy','wz','Anglex','Angley','Anglez'])\n",
        " Sensor_data_2_org = pd.read_csv (r'/content/drive/MyDrive/IOT_Project/Data/11 13/data_2.txt',skiprows=1, delim_whitespace=True,names=['Date','Time','chip','chip_time','ax','ay','az','wx','wy','wz','Anglex','Angley','Anglez'])\n",
        "\n",
        " ground_truth =pd.read_csv (r'/content/drive/MyDrive/IOT_Project/Data/Ground_Truth.csv', skiprows=1,names=['video','shot_no','shot_kind','shot_type'])\n",
        " ground_truth_enc =pd.read_csv (r'/content/drive/MyDrive/IOT_Project/Data/Ground_Truth_encoded.csv', skiprows=1,names=['video','shot_no','shot_kind_str','shot_type_str','shot_kind','shot_type'])\n",
        "\n",
        " ground_truth =ground_truth_enc.copy()\n",
        " ground_truth.drop(columns=[\"video\"], axis=1, inplace=True)\n",
        " # remove video4 data\n",
        " ground_truth.drop([59,60],inplace=True)\n",
        " ground_truth.reset_index(inplace=True)\n",
        " ground_truth.drop(columns=[\"index\"], axis=1, inplace=True)\n",
        " \n",
        " return ground_truth,Sensor_data_1_org,Sensor_data_2_org\n"
      ]
    },
    {
      "cell_type": "code",
      "execution_count": 356,
      "metadata": {
        "id": "tMypTlWrGZ9U"
      },
      "outputs": [],
      "source": [
        "def video_reading():\n",
        "  # reading the video data for all files\n",
        "  cap_1 = cv2.VideoCapture(videoFile_1)\n",
        "  cap_2 = cv2.VideoCapture(videoFile_2)\n",
        "  cap_3 = cv2.VideoCapture(videoFile_3)\n",
        "  cap_5 = cv2.VideoCapture(videoFile_5)\n",
        "\n",
        "  # getting fps since fps iis same for all videoas i am taking the same fps\n",
        "  fps = cap_1.get(cv2.CAP_PROP_FPS)\n",
        "\n",
        "  # creating relevant time stamp lists to store\n",
        "  # timestamps_1 = [cap_1.get(cv2.CAP_PROP_POS_MSEC)]\n",
        "  # timestamps_2 = [cap_2.get(cv2.CAP_PROP_POS_MSEC)]\n",
        "  # timestamps_3 = [cap_3.get(cv2.CAP_PROP_POS_MSEC)]\n",
        "  # timestamps_4 = [cap_4.get(cv2.CAP_PROP_POS_MSEC)]\n",
        "  # timestamps_5 = [cap_5.get(cv2.CAP_PROP_POS_MSEC)]\n",
        "\n",
        "  timestamps_1 = []\n",
        "  timestamps_2 = []\n",
        "  timestamps_3 = []\n",
        "  timestamps_5 = []\n",
        "\n",
        "  # for video 1\n",
        "  i=0\n",
        "  sec=0\n",
        "\n",
        "  while(cap_1.isOpened()):\n",
        "    frame_exists, curr_frame = cap_1.read()\n",
        "    frameRate = cap_1.get(cv2.CAP_PROP_FPS)\n",
        "    sec = sec + frameRate \n",
        "    if frame_exists:\n",
        "        i=i+1\n",
        "        video_ms =cap_1.get(cv2.CAP_PROP_POS_MSEC)\n",
        "        # if i>530 and i <595:\n",
        "        #   cv2.imwrite(drive_path+main_folder+\"/\"+\"shot_1/frame \"+str(i)+\"-\"+str(video_ms) +\" frames.jpg\", curr_frame)\n",
        "        timestamps_1.append(video_ms)\n",
        "    else:\n",
        "        break\n",
        "\n",
        "  cap_1.release()\n",
        "\n",
        "  # for video 2\n",
        "  i=0\n",
        "  sec=0\n",
        "\n",
        "  while(cap_2.isOpened()):\n",
        "    frame_exists, curr_frame = cap_2.read()\n",
        "    frameRate = cap_2.get(cv2.CAP_PROP_FPS)\n",
        "    sec = sec + frameRate \n",
        "    if frame_exists:\n",
        "        i=i+1\n",
        "        video_ms =cap_2.get(cv2.CAP_PROP_POS_MSEC)\n",
        "        # if i>530 and i <595:\n",
        "        #   cv2.imwrite(drive_path+main_folder+\"/\"+\"shot_1/frame \"+str(i)+\"-\"+str(video_ms) +\" frames.jpg\", curr_frame)\n",
        "        timestamps_2.append(video_ms)\n",
        "    else:\n",
        "        break\n",
        "\n",
        "  cap_2.release()\n",
        "\n",
        "  # for video 3\n",
        "  i=0\n",
        "  sec=0\n",
        "\n",
        "  while(cap_3.isOpened()):\n",
        "    frame_exists, curr_frame = cap_3.read()\n",
        "    frameRate = cap_3.get(cv2.CAP_PROP_FPS)\n",
        "    sec = sec + frameRate \n",
        "    if frame_exists:\n",
        "        i=i+1\n",
        "        video_ms =cap_3.get(cv2.CAP_PROP_POS_MSEC)\n",
        "        # if i>530 and i <595:\n",
        "        #   cv2.imwrite(drive_path+main_folder+\"/\"+\"shot_1/frame \"+str(i)+\"-\"+str(video_ms) +\" frames.jpg\", curr_frame)\n",
        "        timestamps_3.append(video_ms)\n",
        "    else:\n",
        "        break\n",
        "\n",
        "  cap_3.release()\n",
        "\n",
        "  # for video 5\n",
        "  i=0\n",
        "  sec=0\n",
        "\n",
        "  while(cap_5.isOpened()):\n",
        "    frame_exists, curr_frame = cap_5.read()\n",
        "    frameRate = cap_5.get(cv2.CAP_PROP_FPS)\n",
        "    sec = sec + frameRate \n",
        "    if frame_exists:\n",
        "        i=i+1\n",
        "        video_ms =cap_5.get(cv2.CAP_PROP_POS_MSEC)\n",
        "        # if i>530 and i <595:\n",
        "        #   cv2.imwrite(drive_path+main_folder+\"/\"+\"shot_1/frame \"+str(i)+\"-\"+str(video_ms) +\" frames.jpg\", curr_frame)\n",
        "        timestamps_5.append(video_ms)\n",
        "    else:\n",
        "        break\n",
        "\n",
        "  cap_5.release()\n",
        "\n",
        "  # converting timestamps to secs from ms\n",
        "  timestamps_1_s=[]\n",
        "  timestamps_2_s=[]\n",
        "  timestamps_3_s=[]\n",
        "  timestamps_5_s=[]\n",
        "\n",
        "  for i,time_ms in enumerate(timestamps_1):\n",
        "    timestamps_1_s.append(round(time_ms/1000, 3))\n",
        "\n",
        "\n",
        "  for i,time_ms in enumerate(timestamps_2):\n",
        "    \n",
        "    timestamps_2_s.append(round(time_ms/1000, 3))\n",
        "\n",
        "\n",
        "  for i,time_ms in enumerate(timestamps_3):\n",
        "    timestamps_3_s.append(round(time_ms/1000, 3))\n",
        "\n",
        "\n",
        "  for i,time_ms in enumerate(timestamps_5):\n",
        "    timestamps_5_s.append(round(time_ms/1000, 3))\n",
        "\n",
        "  return timestamps_1,timestamps_2,timestamps_3,timestamps_5,timestamps_1_s,timestamps_2_s,timestamps_3_s,timestamps_5_s"
      ]
    },
    {
      "cell_type": "markdown",
      "source": [
        "Preprocessing of video and sensor"
      ],
      "metadata": {
        "id": "AAd8P75seTHv"
      }
    },
    {
      "cell_type": "code",
      "execution_count": 357,
      "metadata": {
        "id": "PGPRnO-44xMo"
      },
      "outputs": [],
      "source": [
        "def video_data_preprocessing():\n",
        "\n",
        "  # storing start and end time of the shots\n",
        "  video1_st_s =[]\n",
        "  video1_et_s =[]\n",
        "\n",
        "  video2_st_s =[]\n",
        "  video2_et_s =[]\n",
        "\n",
        "  video3_st_s =[]\n",
        "  video3_et_s =[]\n",
        "\n",
        "  video4_st_s =[]\n",
        "  video4_et_s =[]\n",
        "\n",
        "  video5_st_s =[]\n",
        "  video5_et_s =[]\n",
        "\n",
        "  #video 1\n",
        "  for val in video1_st:\n",
        "    video1_st_s.append(int(get_seconds(val)))\n",
        "\n",
        "  for val in video1_et:\n",
        "    video1_et_s.append(int(get_seconds(val)))\n",
        "\n",
        "  #video 2\n",
        "  for val in video2_st:\n",
        "    video2_st_s.append(int(get_seconds(val)))\n",
        "\n",
        "  for val in video2_et:\n",
        "    video2_et_s.append(int(get_seconds(val)))\n",
        "  #vidoe 3\n",
        "  for val in video3_st:\n",
        "    video3_st_s.append(int(get_seconds(val)))\n",
        "\n",
        "  for val in video3_et:\n",
        "    video3_et_s.append(int(get_seconds(val)))\n",
        "\n",
        "  #video 4\n",
        "  for val in video4_st:\n",
        "    video4_st_s.append(int(get_seconds(val)))\n",
        "\n",
        "  for val in video4_et:\n",
        "    video4_et_s.append(int(get_seconds(val)))\n",
        "\n",
        "  #video 5\n",
        "  for val in video5_st:\n",
        "    video5_st_s.append(int(get_seconds(val)))\n",
        "\n",
        "  for val in video5_et:\n",
        "    video5_et_s.append(int(get_seconds(val)))\n",
        "\n",
        "  return video1_st_s,video1_et_s,video2_st_s,video2_et_s,video3_st_s,video3_et_s,video5_st_s,video5_et_s"
      ]
    },
    {
      "cell_type": "code",
      "execution_count": 358,
      "metadata": {
        "id": "3gRIrYwKFJ6B"
      },
      "outputs": [],
      "source": [
        "def sensor_data_preprocessing(Sensor_data_1_org,Sensor_data_2_org):\n",
        "  Sensor_data_1_org[\"Date\"] = pd.to_datetime(Sensor_data_1_org[\"Date\"]).dt.strftime('%Y-%m-%d')\n",
        "  Sensor_data_1_org[\"Date_Time_ms\"] =Sensor_data_1_org['Date'] +\" \"+Sensor_data_1_org['Time']\n",
        "\n",
        "  Sensor_data_2_org[\"Date\"] = pd.to_datetime(Sensor_data_2_org[\"Date\"]).dt.strftime('%Y-%m-%d')\n",
        "  Sensor_data_2_org[\"Date_Time_ms\"] =Sensor_data_2_org['Date'] +\" \"+Sensor_data_2_org['Time']\n",
        "\n",
        "  #Formatting the date time column from string to date time\n",
        "  Sensor_data_1_org['Date_Time_ms'] =  pd.to_datetime(Sensor_data_1_org['Date_Time_ms'], format='%Y-%m-%d %H:%M:%S')\n",
        "  Sensor_data_1_org['Date_Time_ms'] =  pd.to_datetime(Sensor_data_1_org['Date_Time_ms'], format='%Y-%m-%d %H:%M:%S')\n",
        "\n",
        "  Sensor_data_2_org['Date_Time_ms'] =  pd.to_datetime(Sensor_data_2_org['Date_Time_ms'], format='%Y-%m-%d %H:%M:%S')\n",
        "  Sensor_data_2_org['Date_Time_ms'] =  pd.to_datetime(Sensor_data_2_org['Date_Time_ms'], format='%Y-%m-%d %H:%M:%S')\n",
        "\n",
        "  #Removing milli seconds and storing it into another column\n",
        "  Sensor_data_1_org['Date_Time'] =Sensor_data_1_org['Date_Time_ms'].dt.floor('s')\n",
        "  Sensor_data_2_org['Date_Time'] =Sensor_data_2_org['Date_Time_ms'].dt.floor('s')\n",
        "\n",
        "  #Delete chip and chip time column which are not related\n",
        "  Sensor_data_1_org.drop(columns=[\"chip\"], axis=1, inplace=True)\n",
        "  Sensor_data_2_org.drop(columns=[\"chip\"], axis=1, inplace=True)\n",
        "  Sensor_data_1_org.drop(columns=[\"chip_time\"], axis=1, inplace=True)\n",
        "  Sensor_data_2_org.drop(columns=[\"chip_time\"], axis=1, inplace=True)\n",
        "\n",
        "  #Rearrange the columns\n",
        "  Sensor_data_1_org = Sensor_data_1_org.reindex(cols, axis=1) # currently  using\n",
        "  Sensor_data_2_org = Sensor_data_2_org.reindex(cols, axis=1) # currently  using\n",
        "\n",
        "  # Consider colums which are going to be needed\n",
        "  # Sensor_data_new_1_org = Sensor_data_1_org.filter(cols_main, axis=1) # currently not using\n",
        "  # Sensor_data_new_2_org = Sensor_data_2_org.filter(cols_main, axis=1) # currently not using\n",
        "  # Sensor_data_new_1 = Sensor_data_1.filter(cols_main_1, axis=1)\n",
        "  # Sensor_data_new_2 = Sensor_data_2.filter(cols_main_1, axis=1)\n",
        "\n",
        "  # splitting the sensor data based on video recording\n",
        "\n",
        "  Sensor_data_1 = Sensor_data_1_org[(Sensor_data_1_org['Date_Time'] >= video1_save_time)].copy()\n",
        "  Sensor_data_1 = Sensor_data_1[(Sensor_data_1['Date_Time']  <=  video1_end_time)]\n",
        "  Sensor_data_1.reset_index(inplace=True)\n",
        "\n",
        "  Sensor_data_2 = Sensor_data_1_org[(Sensor_data_1_org['Date_Time'] >= video2_save_time)].copy()\n",
        "  Sensor_data_2 = Sensor_data_2[(Sensor_data_2['Date_Time']  <=  video2_end_time)]\n",
        "  Sensor_data_2.reset_index(inplace=True)\n",
        "\n",
        "  Sensor_data_3 = Sensor_data_1_org[(Sensor_data_1_org['Date_Time'] >= video3_save_time)].copy()\n",
        "  Sensor_data_3 = Sensor_data_3[(Sensor_data_3['Date_Time']  <=  video3_end_time)]\n",
        "  Sensor_data_3.reset_index(inplace=True)\n",
        "\n",
        "  Sensor_data_5 =Sensor_data_2_org.copy()\n",
        " \n",
        "  Sensor_data_1.drop(columns=[\"index\"], axis=1, inplace=True)\n",
        "  Sensor_data_2.drop(columns=[\"index\"], axis=1, inplace=True)\n",
        "  Sensor_data_3.drop(columns=[\"index\"], axis=1, inplace=True)\n",
        "\n",
        "  # Sensor_data_3.iloc[:1]\n",
        "  return Sensor_data_1,Sensor_data_2,Sensor_data_3,Sensor_data_5"
      ]
    },
    {
      "cell_type": "code",
      "execution_count": 359,
      "metadata": {
        "id": "VPoMujmLAGi7"
      },
      "outputs": [],
      "source": [
        "def sensor_data_aligning(Sensor_data_1,Sensor_data_2,Sensor_data_3,Sensor_data_5):\n",
        "  # after spliting sennsor data based on video\n",
        "  Sensor_data_1_align=Sensor_data_1.copy()\n",
        "  Sensor_data_2_align=Sensor_data_2.copy()\n",
        "  Sensor_data_3_align=Sensor_data_3.copy()\n",
        "  Sensor_data_5_align=Sensor_data_5.copy()\n",
        "\n",
        "  # consider only  1 sec to sensor data 2 even though video 4 and sensor 2 has 31 sec because we are considering the video 5 and sesonsor 2 and negelecting the vidoe 4 as it has only 2 shots if we consider vidoe 4 then we shoud have \n",
        "  Sensor_data_1_align['Date_Time_ms'] = pd.to_datetime(Sensor_data_1_align['Date_Time_ms']) - pd.to_timedelta(2, unit='s')\n",
        "  # Sensor_data_2_align['Date_Time_ms'] = pd.to_datetime(Sensor_data_2_align['Date_Time_ms']) - pd.to_timedelta(2, unit='s')\n",
        "  # Sensor_data_3_align['Date_Time_ms'] = pd.to_datetime(Sensor_data_3_align['Date_Time_ms']) - pd.to_timedelta(2, unit='s')\n",
        "  Sensor_data_5_align['Date_Time_ms'] = pd.to_datetime(Sensor_data_5_align['Date_Time_ms']) - pd.to_timedelta(1, unit='s')\n",
        "\n",
        "  Sensor_data_1_align['Date_Time'] = pd.to_datetime(Sensor_data_1_align['Date_Time']) - pd.to_timedelta(2, unit='s')\n",
        "  # Sensor_data_2_align['Date_Time'] = pd.to_datetime(Sensor_data_2_align['Date_Time']) - pd.to_timedelta(2, unit='s')\n",
        "  # Sensor_data_3_align['Date_Time'] = pd.to_datetime(Sensor_data_3_align['Date_Time']) - pd.to_timedelta(2, unit='s')\n",
        "  Sensor_data_5_align['Date_Time'] = pd.to_datetime(Sensor_data_5_align['Date_Time']) - pd.to_timedelta(1, unit='s')\n",
        "\n",
        "  return Sensor_data_1_align,Sensor_data_2_align,Sensor_data_3_align,Sensor_data_5_align"
      ]
    },
    {
      "cell_type": "markdown",
      "source": [
        "Final video and sensor data that has shots"
      ],
      "metadata": {
        "id": "mX5ijHR_hk7m"
      }
    },
    {
      "cell_type": "code",
      "execution_count": 360,
      "metadata": {
        "id": "2hNXtY6Zir4Z"
      },
      "outputs": [],
      "source": [
        "def final_video_data(video1_st_s,video1_et_s,video2_st_s,video2_et_s,video3_st_s,video3_et_s,video5_st_s,video5_et_s,timestamps_1_s,timestamps_2_s,timestamps_3_s,timestamps_5_s):\n",
        "  #shots time stamp in video\n",
        "  final_video1_data = []\n",
        "  final_video2_data = []\n",
        "  final_video3_data = []\n",
        "  final_video5_data = []\n",
        "\n",
        "  # video 1\n",
        "  for i,(et,st) in enumerate(zip(video1_et_s,video1_st_s)):\n",
        "    shot_time= et-st\n",
        "    # result = video1_save_time + timedelta(seconds=st)\n",
        "    for time_ms in timestamps_1_s:\n",
        "      if int(time_ms) == st and  (int(time_ms)<=(st+shot_time))  :\n",
        "        final_video1_data.append(time_ms)\n",
        "\n",
        "  # video 2\n",
        "  for i,(et,st) in enumerate(zip(video2_et_s,video2_st_s)):\n",
        "    shot_time= et-st\n",
        "    # result = video2_save_time + timedelta(seconds=st)\n",
        "    for time_ms in timestamps_2_s:\n",
        "      if int(time_ms) == st and  (int(time_ms)<=(st+shot_time))  :\n",
        "        final_video2_data.append(time_ms)\n",
        "\n",
        "  # video 3\n",
        "  for i,(et,st) in enumerate(zip(video3_et_s,video3_st_s)):\n",
        "    shot_time= et-st\n",
        "    # result = video3_save_time + timedelta(seconds=st)\n",
        "    for time_ms in timestamps_3_s:\n",
        "      if int(time_ms) == st and  (int(time_ms)<=(st+shot_time))  :\n",
        "        final_video3_data.append(time_ms)\n",
        "\n",
        "  # video 5\n",
        "  for i,(et,st) in enumerate(zip(video5_et_s,video5_st_s)):\n",
        "    shot_time= et-st\n",
        "    # result = video5_save_time + timedelta(seconds=st)\n",
        "    for time_ms in timestamps_5_s:\n",
        "      if int(time_ms) == st and  (int(time_ms)<=(st+shot_time))  :\n",
        "        final_video5_data.append(time_ms)\n",
        "  \n",
        "  # conversion of lists to df\n",
        "  final_video1_data_df = pd.DataFrame (final_video1_data, columns = ['time_sec'])\n",
        "  final_video2_data_df = pd.DataFrame (final_video2_data, columns = ['time_sec'])\n",
        "  final_video3_data_df = pd.DataFrame (final_video3_data, columns = ['time_sec'])\n",
        "  final_video5_data_df = pd.DataFrame (final_video5_data, columns = ['time_sec'])\n",
        "\n",
        "  # print(final_video3_data_df.shape)\n",
        "  # print(final_video5_data_df.shape)\n",
        "  return final_video1_data_df,final_video2_data_df,final_video3_data_df,final_video5_data_df"
      ]
    },
    {
      "cell_type": "code",
      "execution_count": 361,
      "metadata": {
        "id": "RyMvRmyqrEol"
      },
      "outputs": [],
      "source": [
        "def final_gt_sensor_data(ground_truth,Sensor_data_1_align,Sensor_data_2_align,Sensor_data_3_align,Sensor_data_5_align,video1_st_s,video1_et_s,video2_st_s,video2_et_s,video3_st_s,video3_et_s,video5_st_s,video5_et_s):\n",
        "  #shots time stamp in sensor\n",
        "\n",
        "  temp_df_1 = Sensor_data_1_align.copy()\n",
        "  temp_df_2 = Sensor_data_2_align.copy()\n",
        "  temp_df_3 = Sensor_data_3_align.copy()\n",
        "  temp_df_5 = Sensor_data_5_align.copy()\n",
        "\n",
        "  final_sensor1_data = pd.DataFrame()\n",
        "  final_sensor2_data = pd.DataFrame()\n",
        "  final_sensor3_data = pd.DataFrame()\n",
        "  final_sensor5_data = pd.DataFrame()\n",
        "\n",
        "  ground_truth_final = pd.DataFrame()\n",
        "  ground_truth[\"shot_id\"]=0\n",
        "  count =0\n",
        "\n",
        "  # sensor 1\n",
        "  for i,(et,st) in enumerate(zip(video1_et_s,video1_st_s)):\n",
        "    # shot_time= et-st\n",
        "    shot_start_time = video1_save_time + timedelta(seconds=st)\n",
        "    shot_end_time = video1_save_time + timedelta(seconds=et)\n",
        "\n",
        "    temp_df = temp_df_1[(temp_df_1['Date_Time'] >= shot_start_time)].copy()\n",
        "    temp_df = temp_df[(temp_df['Date_Time']  <=  shot_end_time)]\n",
        "    count =count+1\n",
        "    temp_df[\"shot_id\"]=count\n",
        "    final_sensor1_data = final_sensor1_data.append(temp_df, ignore_index=True)\n",
        "\n",
        "    for j,val in enumerate(temp_df.to_numpy()):\n",
        "      ground_truth[\"shot_id\"].iloc[i]=count \n",
        "      ground_truth_final=ground_truth_final.append(ground_truth.iloc[i])\n",
        "\n",
        "  # sensor 2\n",
        "  for i,(et,st) in enumerate(zip(video2_et_s,video2_st_s)):\n",
        "    # shot_time= et-st\n",
        "    shot_start_time = video2_save_time + timedelta(seconds=st)\n",
        "    shot_end_time = video2_save_time + timedelta(seconds=et)\n",
        "\n",
        "    temp_df = temp_df_2[(temp_df_2['Date_Time'] >= shot_start_time)].copy()\n",
        "    temp_df = temp_df[(temp_df['Date_Time']  <=  shot_end_time)]\n",
        "    count =count+1\n",
        "    temp_df[\"shot_id\"]=count\n",
        "    final_sensor2_data = final_sensor2_data.append(temp_df, ignore_index=True)\n",
        "\n",
        "\n",
        "    for j,val in enumerate(temp_df.to_numpy()):\n",
        "      ground_truth[\"shot_id\"].iloc[i]=count \n",
        "      ground_truth_final=ground_truth_final.append(ground_truth.iloc[i])\n",
        "\n",
        "  # sensor 3\n",
        "  for i,(et,st) in enumerate(zip(video3_et_s,video3_st_s)):\n",
        "    # shot_time= et-st\n",
        "    shot_start_time = video3_save_time + timedelta(seconds=st)\n",
        "    shot_end_time = video3_save_time + timedelta(seconds=et)\n",
        "\n",
        "    temp_df = temp_df_3[(temp_df_3['Date_Time'] >= shot_start_time)].copy()\n",
        "    temp_df = temp_df[(temp_df['Date_Time']  <=  shot_end_time)]\n",
        "    count =count+1\n",
        "    temp_df[\"shot_id\"]=count\n",
        "    final_sensor3_data = final_sensor3_data.append(temp_df, ignore_index=True)\n",
        "\n",
        "\n",
        "    for j,val in enumerate(temp_df.to_numpy()):\n",
        "      ground_truth[\"shot_id\"].iloc[i]=count \n",
        "      ground_truth_final=ground_truth_final.append(ground_truth.iloc[i])\n",
        "\n",
        "  # sensor 5\n",
        "  for i,(et,st) in enumerate(zip(video5_et_s,video5_st_s)):\n",
        "    # shot_time= et-st\n",
        "    shot_start_time = video5_save_time + timedelta(seconds=st)\n",
        "    shot_end_time = video5_save_time + timedelta(seconds=et)\n",
        "\n",
        "    temp_df = temp_df_5[(temp_df_5['Date_Time'] >= shot_start_time)].copy()\n",
        "    temp_df = temp_df[(temp_df['Date_Time']  <=  shot_end_time)]\n",
        "    count =count+1\n",
        "    temp_df[\"shot_id\"]=count\n",
        "    final_sensor5_data = final_sensor5_data.append(temp_df, ignore_index=True)\n",
        "    \n",
        "    for j,val in enumerate(temp_df.to_numpy()):\n",
        "      ground_truth[\"shot_id\"].iloc[i]=count  \n",
        "      ground_truth_final=ground_truth_final.append(ground_truth.iloc[i])\n",
        "      \n",
        "\n",
        "  return ground_truth_final,final_sensor1_data,final_sensor2_data,final_sensor3_data,final_sensor5_data\n"
      ]
    },
    {
      "cell_type": "markdown",
      "source": [
        "Saving the the final video,sesnor,ground truth in drive if it didnt exist"
      ],
      "metadata": {
        "id": "ksl4U8OEBkXB"
      }
    },
    {
      "cell_type": "code",
      "source": [
        "def final_data_save(ground_truth_final,final_sensor1_data,final_sensor2_data,final_sensor3_data,final_sensor5_data,final_video1_data_df,final_video2_data_df,final_video3_data_df,final_video5_data_df):\n",
        "\n",
        "  # with pd.ExcelWriter(final_video_data_file) as writer:\n",
        "  with pd.ExcelWriter(final_data_file) as writer:\n",
        "    # use to_excel function and specify the sheet_name and index\n",
        "    # to store the dataframe in specified sheet\n",
        "    final_video1_data_df.to_excel(writer, sheet_name=\"video1\", index=False)\n",
        "    final_video2_data_df.to_excel(writer, sheet_name=\"video2\", index=False)\n",
        "    final_video3_data_df.to_excel(writer, sheet_name=\"video3\", index=False)\n",
        "    final_video3_data_df.to_excel(writer, sheet_name=\"video5\", index=False)\n",
        "    # if you want to save ground truth and sensor in seperate file comment below code and un comment the entire below with block\n",
        "    final_sensor1_data.to_excel(writer, sheet_name=\"sensor1\", index=False)\n",
        "    final_sensor2_data.to_excel(writer, sheet_name=\"sensor2\", index=False)\n",
        "    final_sensor3_data.to_excel(writer, sheet_name=\"sensor3\", index=False)\n",
        "    final_sensor5_data.to_excel(writer, sheet_name=\"sensor5\", index=False)\n",
        "    ground_truth_final.to_excel(writer, sheet_name=\"ground_truth\", index=False)\n",
        "\n",
        "  # with pd.ExcelWriter(final_sensor_gt_data_file) as writer:\n",
        "   \n",
        "  #   # use to_excel function and specify the sheet_name and index\n",
        "  #   # to store the dataframe in specified sheet\n",
        "  #   final_sensor1_data.to_excel(writer, sheet_name=\"sensor1\", index=False)\n",
        "  #   final_sensor2_data.to_excel(writer, sheet_name=\"sensor2\", index=False)\n",
        "  #   final_sensor3_data.to_excel(writer, sheet_name=\"sensor3\", index=False)\n",
        "  #   final_sensor5_data.to_excel(writer, sheet_name=\"sensor5\", index=False)\n",
        "  #   ground_truth_final.to_excel(writer, sheet_name=\"ground_truth\", index=False)"
      ],
      "metadata": {
        "id": "wUayUXvYtFT4"
      },
      "execution_count": 362,
      "outputs": []
    },
    {
      "cell_type": "code",
      "source": [
        "# need to update \n",
        "def data_loading():\n",
        "  # declare global data frames\n",
        "  global ground_truth_final,final_sensor1_data,final_sensor2_data,final_sensor3_data,final_sensor5_data,final_video1_data_df,final_video2_data_df,final_video3_data_df,final_video5_data_df\n",
        "\n",
        "\n",
        "  ground_truth_final = pd.DataFrame()\n",
        "  final_sensor1_data = pd.DataFrame()\n",
        "  final_sensor2_data = pd.DataFrame()\n",
        "  final_sensor3_data = pd.DataFrame()\n",
        "  final_sensor5_data = pd.DataFrame()\n",
        "\n",
        "  final_video1_data_df = pd.DataFrame()\n",
        "  final_video2_data_df = pd.DataFrame()\n",
        "  final_video3_data_df = pd.DataFrame()\n",
        "  final_video5_data_df = pd.DataFrame()\n",
        "\n",
        "\n",
        "\n",
        "  hasData_final_file,hasData_seperate_file =data_drive_check(drive_path,saved_data_path,saved_main_file_name,saved_video_file_name,saved_sensor_file_name)\n",
        "  if hasData_final_file or hasData_seperate_file:\n",
        "    # Load Excel file using Pandas with `sheet_name=None`\n",
        "    df_dict = pd.read_excel(drive_path+saved_data_path+saved_main_file_name, sheet_name=None)\n",
        "    # Get data from `video1` worksheet\n",
        "    ground_truth_final = df_dict.get('ground_truth')\n",
        "    final_sensor1_data = df_dict.get('sensor1')\n",
        "    final_sensor2_data = df_dict.get('sensor2')\n",
        "    final_sensor3_data = df_dict.get('sensor3')\n",
        "    final_sensor5_data = df_dict.get('sensor5')\n",
        "\n",
        "    final_video1_data_df = df_dict.get('video1')\n",
        "    final_video2_data_df = df_dict.get('video2')\n",
        "    final_video3_data_df = df_dict.get('video3')\n",
        "    final_video5_data_df = df_dict.get('video5')\n",
        "  elif hasData_seperate_file:\n",
        "    # Load Excel file using Pandas with `sheet_name=None`\n",
        "    df_dict_video = pd.read_excel(drive_path+saved_data_path+saved_video_file_name, sheet_name=None)\n",
        "    df_dict_sensor_gt = pd.read_excel(drive_path+saved_data_path+saved_sensor_file_name, sheet_name=None)\n",
        "    # Get data from `video1` worksheet\n",
        "    ground_truth_final = df_dict_sensor_gt.get('ground_truth')\n",
        "    final_sensor1_data = df_dict_sensor_gt.get('sensor1')\n",
        "    final_sensor2_data = df_dict_sensor_gt.get('sensor2')\n",
        "    final_sensor3_data = df_dict_sensor_gt.get('sensor3')\n",
        "    final_sensor5_data = df_dict_sensor_gt.get('sensor5')\n",
        "\n",
        "    final_video1_data_df = df_dict_video.get('video1')\n",
        "    final_video2_data_df = df_dict_video.get('video2')\n",
        "    final_video3_data_df = df_dict_video.get('video3')\n",
        "    final_video5_data_df = df_dict_video.get('video5')\n",
        "  else:\n",
        "    #getting ground truth and sensor final data\n",
        "    ground_truth,Sensor_data_1_org,Sensor_data_2_org=data_reading()\n",
        "\n",
        "    Sensor_data_1,Sensor_data_2,Sensor_data_3,Sensor_data_5 = sensor_data_preprocessing(Sensor_data_1_org,Sensor_data_2_org)\n",
        "\n",
        "    \n",
        "    #getting  video final data\n",
        "    timestamps_1,timestamps_2,timestamps_3,timestamps_5,timestamps_1_s,timestamps_2_s,timestamps_3_s,timestamps_5_s=video_reading()\n",
        "    video1_st_s,video1_et_s,video2_st_s,video2_et_s,video3_st_s,video3_et_s,video5_st_s,video5_et_s = video_data_preprocessing()\n",
        "\n",
        "    #final video df\n",
        "    final_video1_data_df,final_video2_data_df,final_video3_data_df,final_video5_data_df = final_video_data(video1_st_s,video1_et_s,video2_st_s,video2_et_s,video3_st_s,video3_et_s,video5_st_s,video5_et_s,timestamps_1_s,timestamps_2_s,timestamps_3_s,timestamps_5_s)\n",
        "    # print(final_video3_data_df.shape)\n",
        "    # print(final_video5_data_df.shape)\n",
        "    # aligning the sensor data with video time stamp\n",
        "    Sensor_data_1_align,Sensor_data_2_align,Sensor_data_3_align,Sensor_data_5_align = sensor_data_aligning(Sensor_data_1,Sensor_data_2,Sensor_data_3,Sensor_data_5)\n",
        "    # final sensors and ground truth\n",
        "    ground_truth_final,final_sensor1_data,final_sensor2_data,final_sensor3_data,final_sensor5_data = final_gt_sensor_data(ground_truth,Sensor_data_1_align,Sensor_data_2_align,Sensor_data_3_align,Sensor_data_5_align,video1_st_s,video1_et_s,video2_st_s,video2_et_s,video3_st_s,video3_et_s,video5_st_s,video5_et_s)\n",
        "    # if we video data in model we need to down sample the video data by using below line\n",
        "    #final_video1_data_downsample,final_video2_data_downsample,final_video3_data_downsample,final_video5_data_downsample = downsampling(final_video1_data_df,final_video2_data_df,final_video3_data_df,final_video5_data_df,final_sensor1_data,final_sensor2_data,final_sensor3_data,final_sensor5_data)\n",
        "    final_data_save(ground_truth_final,final_sensor1_data,final_sensor2_data,final_sensor3_data,final_sensor5_data,final_video1_data_df,final_video2_data_df,final_video3_data_df,final_video5_data_df)\n",
        "\n",
        "  return ground_truth_final,final_sensor1_data,final_sensor2_data,final_sensor3_data,final_sensor5_data,final_video1_data_df,final_video2_data_df,final_video3_data_df,final_video5_data_df \n"
      ],
      "metadata": {
        "id": "HNWvMxbZGKG9"
      },
      "execution_count": 363,
      "outputs": []
    },
    {
      "cell_type": "markdown",
      "source": [
        "Model related functions"
      ],
      "metadata": {
        "id": "crekrbeq5-f5"
      }
    },
    {
      "cell_type": "markdown",
      "source": [
        "Selecting features "
      ],
      "metadata": {
        "id": "ULOQDzq96tRV"
      }
    },
    {
      "cell_type": "code",
      "source": [
        "def feature_selections(num_features):\n",
        "  # Used for reference for splitting the train,test,eval based on number of features\n",
        "\n",
        "  if num_features==9:\n",
        "    input = [1,2,3,4,5,6,7,8,9]\n",
        "    col_features=['feature1','feature2','feature3','feature4','feature5','feature6','feature7','feature8','feature9']\n",
        "  elif num_features==3:\n",
        "    input = [1,2,3]\n",
        "    col_features=['feature1','feature2','feature3']\n",
        "  elif num_features==6:\n",
        "    input = [1,2,3,7,8,9]\n",
        "    col_features=['feature1','feature2','feature3','feature4','feature5','feature6']\n",
        "\n",
        "  Comb = sum([list(map(list, combinations(input, i))) for i in range(1,len(input) + 1,1)], [])\n",
        "  Comb_index = pd.DataFrame(Comb,columns =col_features)\n",
        "\n",
        "  return Comb,Comb_index"
      ],
      "metadata": {
        "id": "uNM3Q9Th3t9J"
      },
      "execution_count": 364,
      "outputs": []
    },
    {
      "cell_type": "markdown",
      "source": [
        "correlation between features"
      ],
      "metadata": {
        "id": "E_KuZoXg6yaW"
      }
    },
    {
      "cell_type": "code",
      "execution_count": 365,
      "metadata": {
        "id": "xLqmEogr6NLu"
      },
      "outputs": [],
      "source": [
        "def correlation_covarience(X):\n",
        "  cor=x.corr()\n",
        "  data_covariance = X.cov()\n",
        "  \n",
        "  fig, ax =plt.subplots(1,2,figsize=(15, 6))\n",
        "  sns.heatmap(cor,annot=True,ax=ax[0])\n",
        "  ax[0].set_title('correlation')\n",
        "  sns.heatmap(data_covariance, square=True,ax=ax[1])\n",
        "  ax[1].set_title('covarience')\n",
        "  fig.suptitle('feature vs feature')\n",
        "  # fig.show()\n",
        "  fig_correlation_covarience = fig\n",
        "  return fig_correlation_covarience\n",
        "\n",
        "  "
      ]
    },
    {
      "cell_type": "code",
      "source": [
        "def feature_importance(model):\n",
        "  feature_imp = pd.Series(model.feature_importances_,index=cols_main_norm).sort_values(ascending=False)\n",
        "  sns.barplot(x=feature_imp, y=feature_imp.index)\n",
        "  # Add labels to your graph\n",
        "  plt.xlabel('Feature Importance Score')\n",
        "  plt.ylabel('Features')\n",
        "  plt.title(\"Visualizing Important Features\")\n",
        "  plt.legend()\n",
        "  # plt.show()\n",
        "  plt_feature_importance = plt\n",
        "  return plt_feature_importance"
      ],
      "metadata": {
        "id": "Ai8_0hCBlS6K"
      },
      "execution_count": 366,
      "outputs": []
    },
    {
      "cell_type": "markdown",
      "source": [
        "Hyper tunning the KNN,Kmeans. I got the k values by running the commented code at the below which is under heading \" Find best k for KNN classifier and regressor\""
      ],
      "metadata": {
        "id": "Vnop2BnXbiFb"
      }
    },
    {
      "cell_type": "code",
      "source": [
        "# for ground truth perfect or goog\n",
        "# knn regressor k=15\n",
        "# KNN classifer k=7\n",
        "# kmean 2\n",
        "\n",
        "# for ground truth attack defense\n",
        "# knn regressor k=94\n",
        "# KNN classifer k=290,292,303\n",
        "# kmean 2\n",
        "def find_best_k(gt,model_name):\n",
        "  n=0\n",
        "\n",
        "  if gt ==\"shot_type\":\n",
        "    if model_name == \"KNeighborsClassifier\":\n",
        "      n=7\n",
        "    elif model_name == \"KNeighborsRegressor\":\n",
        "      n=15\n",
        "    else:\n",
        "      n=2\n",
        "  else:\n",
        "    if model_name == \"KNeighborsClassifier\":\n",
        "      n=290\n",
        "    elif model_name == \"KNeighborsRegressor\":\n",
        "      n=94\n",
        "    else:\n",
        "      n=2\n",
        "  return n"
      ],
      "metadata": {
        "id": "lsfbPAjgh2fJ"
      },
      "execution_count": 367,
      "outputs": []
    },
    {
      "cell_type": "markdown",
      "source": [
        "Normalization"
      ],
      "metadata": {
        "id": "QJeGeCSS62Wd"
      }
    },
    {
      "cell_type": "code",
      "source": [
        "def normalization(X_train, X_test,norm ):\n",
        "  global X_train_norm,X_test_norm\n",
        "  train_min = X_train.min(axis=0) \n",
        "  train_max = X_train.max(axis=0)\n",
        "  if norm==\"max\":\n",
        "    X_test_norm = X_test / np.abs(X_train).max(axis=0)\n",
        "    X_train_norm = X_train / np.abs(X_train).max(axis=0)\n",
        "    \n",
        "    \n",
        "\n",
        "  elif norm==\"mean_std\":\n",
        "    train_mean = np.mean(X_train)\n",
        "    train_std = np.std(X_train)\n",
        "    X_test_norm = (X_test - train_mean)/train_std\n",
        "    X_train_norm =  (X_train - train_mean)/train_std\n",
        "\n",
        "\n",
        "    if norm==\"min_max\" :\n",
        "      X_train_norm = (X_train - train_min)/(train_max - train_min)\n",
        "      # X_val_norm = (X_val - train_min)/(train_max - train_min)\n",
        "      X_test_norm = (X_test - train_min)/(train_max - train_min)\n",
        "\n",
        "  return X_train_norm, X_test_norm"
      ],
      "metadata": {
        "id": "6FjusoxHyEIj"
      },
      "execution_count": 368,
      "outputs": []
    },
    {
      "cell_type": "markdown",
      "source": [
        "splitting the x,y based on first 20 shots as train and 10 shots as test for each player instead of train_test_split"
      ],
      "metadata": {
        "id": "X-5QENRMcCFj"
      }
    },
    {
      "cell_type": "code",
      "source": [
        "def shot_split(x,y,player_count):\n",
        "  gt_cols=[\"shot_kind\",\"shot_type\",\"shot_id\"]\n",
        "  X_train = pd.DataFrame()\n",
        "  X_test = pd.DataFrame()\n",
        "  y_train = pd.DataFrame()\n",
        "  y_test = pd.DataFrame()\n",
        "\n",
        "  # if player_count =2 we are not considering the player 2 shots\n",
        "\n",
        "  #player 1 train and test splits\n",
        "  temp_df = x[(x['shot_id'] >= 1)].copy()\n",
        "  temp_df = temp_df[(temp_df['shot_id']  <=  19)]\n",
        "  X_train = X_train.append(temp_df, ignore_index=True)\n",
        "\n",
        "  temp_df = y[(y['shot_id'] >= 1)].copy()\n",
        "  temp_df = temp_df[(temp_df['shot_id']  <=  19)]\n",
        "  y_train = y_train.append(temp_df, ignore_index=True)\n",
        "\n",
        "  temp_df = x[(x['shot_id'] >= 20)].copy()\n",
        "  temp_df = temp_df[(temp_df['shot_id']  <=  29)]\n",
        "  X_test = X_test.append(temp_df, ignore_index=True)\n",
        "\n",
        "  temp_df = y[(y['shot_id'] >= 20)].copy()\n",
        "  temp_df = temp_df[(temp_df['shot_id']  <=  29)]\n",
        "  y_test = y_test.append(temp_df, ignore_index=True)\n",
        "\n",
        "  \n",
        "  #player 2 train and test splits\n",
        "  if player_count==3:\n",
        "    temp_df = x[(x['shot_id'] >= 30)].copy()\n",
        "    temp_df = temp_df[(temp_df['shot_id']  <=  49)]\n",
        "    X_train = X_train.append(temp_df, ignore_index=True)\n",
        "\n",
        "    temp_df = y[(y['shot_id'] >= 30)].copy()\n",
        "    temp_df = temp_df[(temp_df['shot_id']  <=  49)]\n",
        "    y_train = y_train.append(temp_df, ignore_index=True)\n",
        "\n",
        "    temp_df = x[(x['shot_id'] >= 49)].copy()\n",
        "    temp_df = temp_df[(temp_df['shot_id']  <=  59)]\n",
        "    X_test = X_test.append(temp_df, ignore_index=True)\n",
        "\n",
        "    temp_df = y[(y['shot_id'] >= 49)].copy()\n",
        "    temp_df = temp_df[(temp_df['shot_id']  <=  59)]\n",
        "    y_test = y_test.append(temp_df, ignore_index=True)\n",
        "\n",
        "  #player 3 train and test splits\n",
        "  temp_df = x[(x['shot_id'] >= 60)].copy()\n",
        "  temp_df = temp_df[(temp_df['shot_id']  <=  75)]\n",
        "  X_train = X_train.append(temp_df, ignore_index=True)\n",
        "\n",
        "  temp_df = y[(y['shot_id'] >= 60)].copy()\n",
        "  temp_df = temp_df[(temp_df['shot_id']  <=  75)]\n",
        "  y_train = y_train.append(temp_df, ignore_index=True)\n",
        "\n",
        "  temp_df = x[(x['shot_id'] >= 75)].copy()\n",
        "  temp_df = temp_df[(temp_df['shot_id']  <=  86)]\n",
        "  X_test = X_test.append(temp_df, ignore_index=True)\n",
        "\n",
        "  temp_df = y[(y['shot_id'] >= 75)].copy()\n",
        "  temp_df = temp_df[(temp_df['shot_id']  <=  86)]\n",
        "  y_test = y_test.append(temp_df, ignore_index=True)\n",
        "\n",
        "  return X_train, X_test,y_train, y_test"
      ],
      "metadata": {
        "id": "NCSoQMX47pde"
      },
      "execution_count": 369,
      "outputs": []
    },
    {
      "cell_type": "markdown",
      "source": [
        "Splitting the data to train and test"
      ],
      "metadata": {
        "id": "nzmlZeW864qG"
      }
    },
    {
      "cell_type": "code",
      "execution_count": 370,
      "metadata": {
        "id": "xl2lYojS5ccg"
      },
      "outputs": [],
      "source": [
        "def data_split(norm,split,player_count,num_features,Sensor_data_final_new,ground_truth_cols_main,test_size):\n",
        "  # remove it after we go the data\n",
        "  # x = Sensor_data_final_new.copy()\n",
        "  X_train, X_test,y_train, y_test = None,None,None,None\n",
        "  X_train_plot, X_test_plot,y_train_plot, y_test_plot = None,None,None,None\n",
        "  x = Sensor_data_final_new.filter(cols_main_1, axis=1)\n",
        "  x_shotid = Sensor_data_final_new.filter(cols_main_2, axis=1)\n",
        "\n",
        "  y = ground_truth_final.filter(ground_truth_cols_main, axis=1)\n",
        "  x_cv = Sensor_data_final_new.filter(cols_main_norm, axis=1)\n",
        "  if split ==\"train_test\":\n",
        "    X_train, X_test,y_train, y_test = train_test_split(x,y,random_state=104, test_size=test_size,shuffle=True)\n",
        "\n",
        "    # x_train, x_val, y_train, y_val = train_test_split(x, y, test_size=0.15, shuffle=True)\n",
        "  else:\n",
        "    X_train, X_test,y_train, y_test = shot_split(x_shotid,ground_truth_final,player_count)\n",
        "    x=x_shotid.copy()\n",
        "\n",
        "  X_train_plot, X_test_plot,y_train_plot, y_test_plot = X_train, X_test,y_train, y_test\n",
        "  train = X_train.copy()\n",
        "  test = X_test.copy()\n",
        "\n",
        "  # y_train = to_categorical(y_train)\n",
        "  # y_test = to_categorical(y_test) \n",
        "  y_train = y_train.filter(ground_truth_cols_main, axis=1)\n",
        "  y_test = y_test.filter(ground_truth_cols_main, axis=1)\n",
        "\n",
        "  ground_truth_category =y_train.shape[1]\n",
        "\n",
        "  Comb,Comb_index = feature_selections(num_features)\n",
        "  X_train= X_train.iloc[0:len(x)+1,Comb[-1]].copy()\n",
        "  X_test= X_test.iloc[0:len(x)+1,Comb[-1]].copy()\n",
        "\n",
        "  print(norm)\n",
        "  # X_train_norm,X_test_norm= normalization(X_train,norm),normalization(X_test,norm)\n",
        "  X_train_norm,X_test_norm= normalization(X_train,X_test,norm)\n",
        "\n",
        "  # prepare output data if not enoded in csv we need to run the below line\n",
        "  # y_train_enc, y_test_enc = prepare_targets(y_train, y_test)\n",
        "  #else we are using already encoded csv file\n",
        "  y_train_enc, y_test_enc = y_train.copy(),y_test.copy()\n",
        "  y_train_enc =tf.reshape(y_train_enc, [-1])\n",
        "  y_test_enc =tf.reshape(y_test_enc, [-1])\n",
        "  print(y_train_enc.shape)\n",
        "  print(X_train_norm.shape)\n",
        "  print(\"\\n\")\n",
        "  # print(ground_truth_category)\n",
        "  return x_cv,x_shotid,x,y,X_train,X_test,X_train_norm,X_test_norm,y_train,y_test,y_train_enc, y_test_enc,ground_truth_category,X_train_plot, X_test_plot,y_train_plot, y_test_plot"
      ]
    },
    {
      "cell_type": "markdown",
      "source": [
        "Model class"
      ],
      "metadata": {
        "id": "TFTcYn8-75xK"
      }
    },
    {
      "cell_type": "code",
      "execution_count": 371,
      "metadata": {
        "id": "R2phcPGX7CgY"
      },
      "outputs": [],
      "source": [
        "class PlayArena():\n",
        "  def __init__(self, mod_name,n_estimators,random_state,num_features,model_type,epochs,batch_size,n):\n",
        "    self.mod_name = mod_name\n",
        "    self.n_estimators = n_estimators\n",
        "    self.random_state = random_state\n",
        "    self.num_features = num_features\n",
        "    self.model_type = model_type\n",
        "    self.epochs = epochs\n",
        "    self.batch_size = batch_size\n",
        "    self.n =n\n",
        "    # self.X = X\n",
        "    # self.Y = Y\n",
        "    # self.model = model\n",
        "\n",
        "  def Model(self):\n",
        "    # print(self.mod_name)\n",
        "    \n",
        "    if self.mod_name == \"KNeighborsClassifier\":\n",
        "      model = KNeighborsClassifier(n_neighbors=self.n)\n",
        "\n",
        "    if self.mod_name == \"KNeighborsRegressor\":\n",
        "      model = KNeighborsRegressor(n_neighbors=self.n)\n",
        "\n",
        "    if self.mod_name == \"KMeans\":\n",
        "        model = KMeans(n_clusters=self.n)\n",
        "\n",
        "    if self.mod_name == \"SVR\":\n",
        "        model = SVR(kernel='rbf')\n",
        "\n",
        "    if self.mod_name == \"SVC\":\n",
        "        model = SVC()\n",
        "    if self.mod_name == \"RFClassifier\":\n",
        "        model = RandomForestClassifier(n_estimators=self.n_estimators,random_state=self.random_state)\n",
        "\n",
        "    if self.mod_name == \"RFRegressor\":\n",
        "        model = RandomForestRegressor(random_state=self.random_state)\n",
        "\n",
        "    if self.mod_name == \"XGBoost\":\n",
        "      model = XGBClassifier(objective='binary:logistic',\n",
        "                          booster='gbtree')\n",
        "      \n",
        "    if self.mod_name == \"ExtraTreesClassifier\":\n",
        "      model = ExtraTreesClassifier(random_state=123)\n",
        "\n",
        "    if self.mod_name==\"linear\":\n",
        "      model = Sequential()\n",
        "      model.add(Dense(1, input_dim=self.num_features)) \n",
        "      model.compile(loss='mse', optimizer='adam', metrics=[\"accuracy\"])\n",
        "\n",
        "    \n",
        "    if self.mod_name == \"MLPClassifier\":\n",
        "      model = MLPClassifier()\n",
        "  \n",
        "    if self.mod_name == \"MLP\":\n",
        "      model = Sequential()\n",
        "      inputs = tf.keras.Input(shape=(self.num_features,))\n",
        "      layer_1 = Dense(20)(inputs)\n",
        "      layer_2 = Dense(30, activation = \"sigmoid\")(layer_1)\n",
        "      layer_3 = Dense(ground_truth_category, activation=\"sigmoid\")(layer_2)\n",
        "      model = tf.keras.Model(inputs=inputs, outputs=layer_3)\n",
        "      # compile the keras model\n",
        "      model.compile(loss='mse', optimizer='adam', metrics=[\"accuracy\"]) # tf.keras.metrics.CategoricalAccuracy()\n",
        "\n",
        "    if self.mod_name == \"LSTM\":\n",
        "      model = Sequential()\n",
        "      model.add(keras.layers.LSTM(units=64, input_shape=(self.num_features,1), return_sequences=False))\n",
        "      # inputs = tf.keras.Input(shape=(num_features,))\n",
        "      # layer_1 = LSTM(64, return_sequences=False,activation = None)(inputs)\n",
        "      # dense_layer_1 = Dense(64, activation = None)(layer_1)\n",
        "      # dropout_1 = Dropout(0.1)(dense_layer_1)\n",
        "      # layer_2 = LSTM(64,return_sequences=False, activation = None)(dropout_1)\n",
        "      # dense_layer_2 = Dense(64, activation = None)(layer_2)\n",
        "      # dropout_2 = Dropout(0.1)(dense_layer_2)\n",
        "      # layer_3 = LSTM(64,return_sequences=False, activation = None)(dropout_2)\n",
        "      # dropout_3 = Dropout(0.1)(layer_3)\n",
        "      # layer_4 = Dense(ground_truth_category, activation=None)(dropout_3)\n",
        "      # dropout_5 = Dropout(0.1)(layer_4)\n",
        "      # model = tf.keras.Model(inputs=inputs, outputs=layer_4)\n",
        "      # compile the keras model\n",
        "      model.compile(loss='mse', optimizer='adam', metrics=[\"accuracy\"]) # tf.keras.metrics.CategoricalAccuracy()\n",
        "    \n",
        "    # print(model)\n",
        "    return  model\n",
        "\n",
        "  def Training(self,model):\n",
        "      if self.model_type== \"NN\" and self.mod_name != \"MLPClassifier\":\n",
        "        # fit the keras model on the dataset\n",
        "        history = model.fit(X_train_norm, y_train_enc,validation_split=0.1, epochs=self.epochs, batch_size=self.batch_size,shuffle=True, verbose=0)\n",
        "      else:\n",
        "        history =model.fit(X_train_norm, y_train_enc)\n",
        "      return history\n",
        "    \n",
        "  def Predict(self,model,X):\n",
        "      preds = model.predict(X)\n",
        "      if self.model_type ==\"NN\" and self.mod_name != \"MLPClassifier\":\n",
        "        preds = preds[:,0]\n",
        "      return preds\n",
        "    \n",
        "  def Evaluate(self,model,X,Y):\n",
        "      _, accuracy = model.evaluate(X, Y, verbose=0)\n",
        "      return accuracy\n",
        "\n",
        "  def MSE(self,model,X,Y):\n",
        "      global R2,score\n",
        "      score =0\n",
        "      pred = self.Predict(model,X)\n",
        "      # print(Y.shape)\n",
        "      if self.mod_name == \"RFClassifier\" or self.mod_name == \"KNeighborsClassifier\" or self.mod_name == \"SVC\" or self.mod_name == \"KMeans\" or self.mod_name == \"XGBoost\" or self.mod_name == \"MLPClassifier\" or self.mod_name == \"ExtraTreesClassifier\":\n",
        "        R2 =accuracy_score(Y, pred)\n",
        "        score = model.score(X, Y)\n",
        "      else:\n",
        "        R2 = r2_score(Y,pred)\n",
        "      MSE = mean_squared_error(Y,pred)\n",
        "      RMSE = math.sqrt(MSE)\n",
        "\n",
        "      return R2,MSE,RMSE,score"
      ]
    },
    {
      "cell_type": "code",
      "source": [
        "def output(n_estimators,random_state,num_features,model_type,epochs,batch_size,gt):\n",
        "  accuracy_train,accuracy_test=None,None\n",
        "  # list for storing for all models\n",
        "  accuracy_train_model,accuracy_test_model=[],[]\n",
        "  R2_train_model,MSE_train_model,RMSE_train_model,score_train_model =[],[],[],[]\n",
        "  R2_test_model,MSE_test_model,RMSE_test_model,score_test_model=[],[],[],[]\n",
        "  n=1\n",
        "  pred_train_model,pred_test_model=[],[]\n",
        "  \n",
        "  best_model,best_model_name,best_R2_test=None,[],0\n",
        "  for i in range(0,len(model_names)):\n",
        "    print(model_names[i])\n",
        "    #seeting seed\n",
        "    # np.random.seed(seed)\n",
        "    # python_random.seed(seed)\n",
        "    tf.random.set_seed(seed)\n",
        "\n",
        "    if model_names[i] == \"MLP\" or model_names[i] == \"LSTM\" or model_names[i]  == \"MLPClassifier\":\n",
        "      model_type =\"NN\"\n",
        "    # calling model\n",
        "    if model_type ==\"N\":\n",
        "      n=find_best_k(gt,model_names[i])\n",
        "    playArena =PlayArena(model_names[i],n_estimators,random_state,num_features,model_type,epochs,batch_size,n)\n",
        "    model=playArena.Model()\n",
        "    history = playArena.Training(model)\n",
        "\n",
        "    # save model\n",
        "    pickle.dump(model, open(saved_model_path+model_names[i]+\"_\"+y.columns[0]+\".pkl\", 'wb'))\n",
        "\n",
        "    # training prediction and score calculation\n",
        "    pred_train = playArena.Predict(model,X_train_norm)\n",
        "    R2_train,MSE_train,RMSE_train,score_train = playArena.MSE(model,X_train_norm,y_train_enc)\n",
        "\n",
        "    R2_train_model.append(R2_train)\n",
        "    MSE_train_model.append(MSE_train)\n",
        "    RMSE_train_model.append(RMSE_train)\n",
        "    score_train_model.append(score_train*100)\n",
        "\n",
        "    pred_train_model.append(pred_train)\n",
        "\n",
        "    # testing prediction and score calculation\n",
        "    pred_test = playArena.Predict(model,X_test_norm)\n",
        "    R2_test,MSE_test,RMSE_test,score_test = playArena.MSE(model,X_test_norm,y_test_enc)\n",
        "\n",
        "    R2_test_model.append(R2_test)\n",
        "    MSE_test_model.append(MSE_test)\n",
        "    RMSE_test_model.append(RMSE_test)\n",
        "    score_test_model.append(score_test*100)\n",
        "    \n",
        "    pred_test_model.append(pred_test)\n",
        "    # # for best model based on ground truth \n",
        "    # if best_R2_test < R2_test:\n",
        "    #   best_R2_test = R2_test\n",
        "    #   best_model = model\n",
        "    #   best_model_name.append(model_names[i])\n",
        "\n",
        "    if model_type ==\"NN\" and model_names[i] != \"MLPClassifier\":\n",
        "      accuracy_train =playArena.Evaluate(model,X_train_norm,y_train_enc)\n",
        "      accuracy_test =playArena.Evaluate(model,X_test_norm,y_test_enc)\n",
        "\n",
        "      accuracy_train_model.append(accuracy_train*100)\n",
        "      accuracy_test_model.append(accuracy_test*100)\n",
        "    print(\"\\n\")  \n",
        "    print('R2 test = '+ str(R2_test))\n",
        "    # print('MSE test = '+ str(MSE_test))\n",
        "    # print('RMSE test = '+ str(RMSE_test))\n",
        "    if model_type ==\"NN\" and model_names[i] !=\"MLPClassifier\":\n",
        "      print('accracy test = '+ str(accuracy_test*100))\n",
        "    else:\n",
        "      print('score test = '+ str(score_test*100))\n",
        "    print(\"\\n\")\n",
        "\n",
        "    print('R2 train = '+ str(R2_train))\n",
        "    # print('MSE train = '+ str(MSE_train))\n",
        "    # print('RMSE train = '+ str(RMSE_train))\n",
        "    if model_type ==\"NN\" and model_names[i] !=\"MLPClassifier\":\n",
        "      print('accracy train = '+ str(accuracy_train*100))\n",
        "    else:\n",
        "      print('score train = '+ str(score_train*100))\n",
        "    print(\"\\n\")\n",
        "  # for best model based on ground truth \n",
        "  best_R2_test = np.max(R2_test_model)\n",
        "  index = R2_test_model.index(best_R2_test)\n",
        "  best_model_name.append(model_names[index])\n",
        "  # print(\"Best Model \"+ model_names[index])\n",
        "  return model,best_R2_test,best_model,best_model_name,R2_train_model,score_train_model,R2_test_model,score_test_model,accuracy_train_model,accuracy_test_model,pred_train_model,pred_test_model"
      ],
      "metadata": {
        "id": "OG5TMeHuHQmw"
      },
      "execution_count": 372,
      "outputs": []
    },
    {
      "cell_type": "markdown",
      "source": [
        "plots"
      ],
      "metadata": {
        "id": "H3TJpP6nW_Yd"
      }
    },
    {
      "cell_type": "code",
      "source": [
        "def feature_plots(X_train_plot, X_test_plot,y_train_plot, y_test_plot):\n",
        "  train_plot =X_train_plot.copy()\n",
        "  test_plot =X_test_plot.copy()\n",
        "  # train_plot.reset_index(inplace=True)\n",
        "  # test_plot.reset_index(inplace=True)\n",
        "\n",
        "  # train_plot[\"index\"]=train_plot[\"index\"]+1\n",
        "  # test_plot[\"index\"]=test_plot[\"index\"]+3\n",
        "\n",
        "  height=10\n",
        "  width =4\n",
        "  for col in cols_main_norm:\n",
        "    plt.figure(figsize=(height, width))\n",
        "    # plt.xticks(np.arange(0, x.shape[0], 1000))\n",
        "    # train_plot.index.values\n",
        "    plt.scatter(train_plot[\"shot_id\"],train_plot[col], c='g', label='Train')\n",
        "    plt.scatter(test_plot[\"shot_id\"],test_plot[col], c='b', label='Test')\n",
        "\n",
        "    plt.title(col+' train and test ')\n",
        "    plt.xlabel('index')\n",
        "    plt.ylabel('values')\n",
        "    plt.legend()\n",
        "    plt.show()\n",
        "\n",
        "    print(\"\\n\\n\")"
      ],
      "metadata": {
        "id": "OjqFUGqZUwjj"
      },
      "execution_count": 373,
      "outputs": []
    },
    {
      "cell_type": "code",
      "source": [
        "def model_plots():\n",
        "  # Numbers of pairs of bars you want\n",
        "  N = len(model_names)\n",
        "  # Position of bars on x-axis\n",
        "  ind = np.arange(N)\n",
        "  # Figure size\n",
        "  plt.figure(figsize=(10,4))\n",
        "  # Width of a bar \n",
        "  width = 0.15       \n",
        "  # Plotting\n",
        "  plt.bar(ind, R2_train_model , width, color =\"lightblue\", label='train score')\n",
        "  plt.bar(ind + width, R2_test_model, width, color =\"green\", label='test score')\n",
        "\n",
        "  plt.xlabel('Models')\n",
        "  plt.ylabel('scores')\n",
        "  plt.title('Scores by train and test for ' + y.columns[0])\n",
        "  # xticks()\n",
        "  # First argument - A list of positions at which ticks should be placed\n",
        "  # Second argument -  A list of labels to place at the given locations\n",
        "  plt.yticks(np.arange(0, 1.2, 0.1))\n",
        "  plt.xticks(ind + width / 2, model_names,rotation='vertical')\n",
        "\n",
        "  # Finding the best position for legends and putting it\n",
        "  plt.legend(loc='best')\n",
        "  plt.show()\n",
        "  print(\"\\n\")"
      ],
      "metadata": {
        "id": "KlTVbdbNNwd7"
      },
      "execution_count": 374,
      "outputs": []
    },
    {
      "cell_type": "code",
      "source": [
        "def model_ind_plots():\n",
        "  #train plot\n",
        "  plt.figure(figsize=(10, 3))\n",
        "  plt.bar(model_names, R2_train_model, width=0.15, color='r')\n",
        "  plt.yticks(np.arange(0, 1.2, 0.2))\n",
        "  plt.title('Training score for '+ y.columns[0])\n",
        "  plt.xticks( model_names,rotation='vertical')\n",
        "  plt.show()\n",
        "  print(\"\\n\")\n",
        "  #test plot\n",
        "  plt.figure(figsize=(10, 3))\n",
        "  plt.bar(model_names, R2_test_model, width=0.15, color='b')\n",
        "  plt.title('Testing score '+ y.columns[0])\n",
        "  plt.yticks(np.arange(0, 1.2, 0.2))\n",
        "  plt.xticks( model_names,rotation='vertical')\n",
        "  plt.show()\n",
        "  print(\"\\n\")"
      ],
      "metadata": {
        "id": "R042DnAUIIbH"
      },
      "execution_count": 375,
      "outputs": []
    },
    {
      "cell_type": "code",
      "source": [
        "def best_predict_plots():\n",
        "\n",
        "  indices =0\n",
        "  for i in range(0,len(model_names)):\n",
        "    if model_names[i] == best_model_name:\n",
        "      indices=i\n",
        "  print(indices)\n",
        "  pred_train =pred_train_model[indices]\n",
        "  plt.scatter(X_train_norm[\"ax\"], y_train_enc, c =\"blue\")\n",
        "  plt.scatter(X_train_norm[\"ax\"], pred_train, c =\"red\")\n",
        "  plt.title('Train True vs Predict')\n",
        "  plt.xlabel('time')\n",
        "  plt.ylabel('category')\n",
        "  plt.legend()\n",
        "  plt.show()\n",
        "  print(\"\\n\")\n",
        "  # test\n",
        "  pred_test =pred_test_model[indices]\n",
        "  plt.scatter(X_test_norm[\"wx\"] ,y_test_enc, c =\"blue\")\n",
        "  plt.scatter(X_test_norm[\"wx\"] ,pred_test, c =\"red\")\n",
        "  plt.title('Test True vs Predict')\n",
        "  plt.xlabel('time')\n",
        "  plt.ylabel('prediction')\n",
        "  plt.legend()\n",
        "  plt.show()\n",
        "  print(\"\\n\")"
      ],
      "metadata": {
        "id": "mK8pvj5zQTov"
      },
      "execution_count": 376,
      "outputs": []
    },
    {
      "cell_type": "code",
      "source": [
        "def Playarena():\n",
        "  # model parameters\n",
        "  norm=\"max\"\n",
        "  num_features =9\n",
        "  seed =7 \n",
        "  split=\"train_test1\"\n",
        "\n",
        "  # Define parameters \n",
        "  global model, x_cv,x_shotid,x,y,X_train,X_test,X_train_norm,X_test_norm,y_train,y_test,y_train_enc, y_test_enc,ground_truth_category,y_train_enc_1,y_test_enc_1,y_train_enc_2,y_test_enc_2,X_train_plot, X_test_plot,y_train_plot, y_test_plot\n",
        "  global best_R2_test,best_model,best_model_name,R2_train_model,score_train_model,R2_test_model,score_test_model,accuracy_train_model,accuracy_test_model,pred_train_model,pred_test_model\n",
        "  ground_truth_cols_main = None\n",
        "  best_model_name =[]\n",
        "  global player_count\n",
        "  player_count=3 #2 # considering 1 & 3 player\n",
        "  y_train_enc_1 = pd.DataFrame()\n",
        "  y_test_enc_1 = pd.DataFrame()\n",
        "  y_train_enc_2 = pd.DataFrame()\n",
        "  y_test_enc_2 = pd.DataFrame()\n",
        "  test_size =0.2\n",
        "  n_estimators =100 \n",
        "  random_state=1\n",
        "  epochs = 100\n",
        "  batch_size = 64\n",
        "  model_type =\"N\" #place NN for MLP\n",
        "  for gt in ground_truth_cols:\n",
        "    ground_truth_final,final_sensor1_data,final_sensor2_data,final_sensor3_data,final_sensor5_data,final_video1_data_df,final_video2_data_df,final_video3_data_df,final_video5_data_df = data_loading()\n",
        "    Sensor_data_final_new = pd.concat([final_sensor1_data,final_sensor2_data,final_sensor3_data,final_sensor5_data], ignore_index=True, sort=False)\n",
        "    # print(Sensor_data_final_new.shape)\n",
        "    ground_truth_cols_main =gt.copy()\n",
        "    print(ground_truth_cols_main)\n",
        "    x_cv,x_shotid,x,y,X_train,X_test,X_train_norm,X_test_norm,y_train,y_test,y_train_enc, y_test_enc,ground_truth_category,X_train_plot, X_test_plot,y_train_plot, y_test_plot = data_split(norm,split,player_count,num_features,Sensor_data_final_new,ground_truth_cols_main,test_size)\n",
        "    print(\"ground truth type \"+y.columns[0])\n",
        "    if y.columns[0] == \"shot_type\":\n",
        "      y_train_enc_1 = pd.DataFrame (y_train_enc, columns = [y.columns[0]])\n",
        "      y_test_enc_1 = pd.DataFrame (y_test_enc, columns = [y.columns[0]])\n",
        "    else:\n",
        "      y_train_enc_2 = pd.DataFrame (y_train_enc, columns = [y.columns[0]])\n",
        "      y_test_enc_2 = pd.DataFrame (y_test_enc, columns = [y.columns[0]])\n",
        "    model,best_R2_test,best_model,best_model_name,R2_train_model,score_train_model,R2_test_model,score_test_model,accuracy_train_model,accuracy_test_model,pred_train_model,pred_test_model= output(n_estimators,random_state,num_features,model_type,epochs,batch_size,gt)\n",
        "    model_plots()\n",
        "    model_ind_plots()\n",
        "    print(\"\\n Best Models for \"+ y.columns[0])\n",
        "    print(best_model_name)\n",
        "    print(\"\\n\")\n",
        "    # best_predict_plots()\n"
      ],
      "metadata": {
        "id": "PG97Ve9KUR6x"
      },
      "execution_count": 377,
      "outputs": []
    },
    {
      "cell_type": "code",
      "source": [
        "Playarena()"
      ],
      "metadata": {
        "colab": {
          "base_uri": "https://localhost:8080/",
          "height": 1000
        },
        "id": "DZC4ESjjXFTL",
        "outputId": "e4e23db8-891c-4d5a-8e8e-b198eb756b22"
      },
      "execution_count": 378,
      "outputs": [
        {
          "output_type": "stream",
          "name": "stdout",
          "text": [
            "['shot_type']\n",
            "max\n",
            "(980,)\n",
            "(980, 9)\n",
            "\n",
            "\n",
            "ground truth type shot_type\n",
            "KNeighborsClassifier\n",
            "\n",
            "\n",
            "R2 test = 0.40794979079497906\n",
            "score test = 40.79497907949791\n",
            "\n",
            "\n",
            "R2 train = 0.75\n",
            "score train = 75.0\n",
            "\n",
            "\n",
            "SVC\n",
            "\n",
            "\n",
            "R2 test = 0.5481171548117155\n",
            "score test = 54.811715481171554\n",
            "\n",
            "\n",
            "R2 train = 0.8306122448979592\n",
            "score train = 83.06122448979592\n",
            "\n",
            "\n",
            "KMeans\n",
            "\n",
            "\n",
            "R2 test = 0.6820083682008368\n",
            "score test = -24762.27332461258\n",
            "\n",
            "\n",
            "R2 train = 0.5826530612244898\n",
            "score train = -47217.29543728935\n",
            "\n",
            "\n",
            "RFClassifier\n",
            "\n",
            "\n",
            "R2 test = 0.6276150627615062\n",
            "score test = 62.76150627615063\n",
            "\n",
            "\n",
            "R2 train = 1.0\n",
            "score train = 100.0\n",
            "\n",
            "\n",
            "XGBoost\n",
            "\n",
            "\n",
            "R2 test = 0.600418410041841\n",
            "score test = 60.04184100418411\n",
            "\n",
            "\n",
            "R2 train = 0.95\n",
            "score train = 95.0\n",
            "\n",
            "\n",
            "ExtraTreesClassifier\n",
            "\n",
            "\n",
            "R2 test = 0.6443514644351465\n",
            "score test = 64.43514644351464\n",
            "\n",
            "\n",
            "R2 train = 1.0\n",
            "score train = 100.0\n",
            "\n",
            "\n",
            "MLPClassifier\n"
          ]
        },
        {
          "output_type": "stream",
          "name": "stderr",
          "text": [
            "/usr/local/lib/python3.8/dist-packages/sklearn/neural_network/_multilayer_perceptron.py:692: ConvergenceWarning: Stochastic Optimizer: Maximum iterations (200) reached and the optimization hasn't converged yet.\n",
            "  warnings.warn(\n"
          ]
        },
        {
          "output_type": "stream",
          "name": "stdout",
          "text": [
            "\n",
            "\n",
            "R2 test = 0.5878661087866108\n",
            "score test = 58.78661087866108\n",
            "\n",
            "\n",
            "R2 train = 0.8367346938775511\n",
            "score train = 83.6734693877551\n",
            "\n",
            "\n"
          ]
        },
        {
          "output_type": "display_data",
          "data": {
            "text/plain": [
              "<Figure size 720x288 with 1 Axes>"
            ],
            "image/png": "[encoded data removed]"
          },
          "metadata": {
            "needs_background": "light"
          }
        },
        {
          "output_type": "stream",
          "name": "stdout",
          "text": [
            "\n",
            "\n"
          ]
        },
        {
          "output_type": "display_data",
          "data": {
            "text/plain": [
              "<Figure size 720x216 with 1 Axes>"
            ],
            "image/png": "[encoded data removed]"
          },
          "metadata": {
            "needs_background": "light"
          }
        },
        {
          "output_type": "stream",
          "name": "stdout",
          "text": [
            "\n",
            "\n"
          ]
        },
        {
          "output_type": "display_data",
          "data": {
            "text/plain": [
              "<Figure size 720x216 with 1 Axes>"
            ],
            "image/png": "[encoded data removed]"
          },
          "metadata": {
            "needs_background": "light"
          }
        },
        {
          "output_type": "stream",
          "name": "stdout",
          "text": [
            "\n",
            "\n",
            "\n",
            " Best Models for shot_type\n",
            "['KMeans']\n",
            "\n",
            "\n",
            "['shot_kind']\n",
            "max\n",
            "(980,)\n",
            "(980, 9)\n",
            "\n",
            "\n",
            "ground truth type shot_kind\n",
            "KNeighborsClassifier\n",
            "\n",
            "\n",
            "R2 test = 0.3368200836820084\n",
            "score test = 33.68200836820084\n",
            "\n",
            "\n",
            "R2 train = 0.45510204081632655\n",
            "score train = 45.51020408163266\n",
            "\n",
            "\n",
            "SVC\n",
            "\n",
            "\n",
            "R2 test = 0.3493723849372385\n",
            "score test = 34.93723849372385\n",
            "\n",
            "\n",
            "R2 train = 0.5020408163265306\n",
            "score train = 50.204081632653065\n",
            "\n",
            "\n",
            "KMeans\n",
            "\n",
            "\n",
            "R2 test = 0.25313807531380755\n",
            "score test = -24752.153567464906\n",
            "\n",
            "\n",
            "R2 train = 0.25204081632653064\n",
            "score train = -47217.73458439764\n",
            "\n",
            "\n",
            "RFClassifier\n",
            "\n",
            "\n",
            "R2 test = 0.3179916317991632\n",
            "score test = 31.799163179916317\n",
            "\n",
            "\n",
            "R2 train = 1.0\n",
            "score train = 100.0\n",
            "\n",
            "\n",
            "XGBoost\n",
            "\n",
            "\n",
            "R2 test = 0.3075313807531381\n",
            "score test = 30.753138075313807\n",
            "\n",
            "\n",
            "R2 train = 0.8183673469387756\n",
            "score train = 81.83673469387756\n",
            "\n",
            "\n",
            "ExtraTreesClassifier\n",
            "\n",
            "\n",
            "R2 test = 0.32426778242677823\n",
            "score test = 32.42677824267782\n",
            "\n",
            "\n",
            "R2 train = 1.0\n",
            "score train = 100.0\n",
            "\n",
            "\n",
            "MLPClassifier\n"
          ]
        },
        {
          "output_type": "stream",
          "name": "stderr",
          "text": [
            "/usr/local/lib/python3.8/dist-packages/sklearn/neural_network/_multilayer_perceptron.py:692: ConvergenceWarning: Stochastic Optimizer: Maximum iterations (200) reached and the optimization hasn't converged yet.\n",
            "  warnings.warn(\n"
          ]
        },
        {
          "output_type": "stream",
          "name": "stdout",
          "text": [
            "\n",
            "\n",
            "R2 test = 0.301255230125523\n",
            "score test = 30.125523012552303\n",
            "\n",
            "\n",
            "R2 train = 0.5510204081632653\n",
            "score train = 55.10204081632652\n",
            "\n",
            "\n"
          ]
        },
        {
          "output_type": "display_data",
          "data": {
            "text/plain": [
              "<Figure size 720x288 with 1 Axes>"
            ],
            "image/png": "[encoded data removed]"
          },
          "metadata": {
            "needs_background": "light"
          }
        },
        {
          "output_type": "stream",
          "name": "stdout",
          "text": [
            "\n",
            "\n"
          ]
        },
        {
          "output_type": "display_data",
          "data": {
            "text/plain": [
              "<Figure size 720x216 with 1 Axes>"
            ],
            "image/png": "[encoded data removed]"
          },
          "metadata": {
            "needs_background": "light"
          }
        },
        {
          "output_type": "stream",
          "name": "stdout",
          "text": [
            "\n",
            "\n"
          ]
        },
        {
          "output_type": "display_data",
          "data": {
            "text/plain": [
              "<Figure size 720x216 with 1 Axes>"
            ],
            "image/png": "[encoded data removed]"
          },
          "metadata": {
            "needs_background": "light"
          }
        },
        {
          "output_type": "stream",
          "name": "stdout",
          "text": [
            "\n",
            "\n",
            "\n",
            " Best Models for shot_kind\n",
            "['SVC']\n",
            "\n",
            "\n"
          ]
        }
      ]
    },
    {
      "cell_type": "code",
      "source": [
        "feature_plots(X_train_plot, X_test_plot,y_train_plot, y_test_plot)"
      ],
      "metadata": {
        "colab": {
          "base_uri": "https://localhost:8080/",
          "height": 1000
        },
        "id": "Oepi_ugmk_fO",
        "outputId": "34a05587-ba2b-4111-a499-0197ff460edf"
      },
      "execution_count": 379,
      "outputs": [
        {
          "output_type": "display_data",
          "data": {
            "text/plain": [
              "<Figure size 720x288 with 1 Axes>"
            ],
            "image/png": "[encoded data removed]"
          },
          "metadata": {
            "needs_background": "light"
          }
        },
        {
          "output_type": "stream",
          "name": "stdout",
          "text": [
            "\n",
            "\n",
            "\n"
          ]
        },
        {
          "output_type": "display_data",
          "data": {
            "text/plain": [
              "<Figure size 720x288 with 1 Axes>"
            ],
            "image/png": "[encoded data removed]"
          },
          "metadata": {
            "needs_background": "light"
          }
        },
        {
          "output_type": "stream",
          "name": "stdout",
          "text": [
            "\n",
            "\n",
            "\n"
          ]
        },
        {
          "output_type": "display_data",
          "data": {
            "text/plain": [
              "<Figure size 720x288 with 1 Axes>"
            ],
            "image/png": "[encoded data removed]"
          },
          "metadata": {
            "needs_background": "light"
          }
        },
        {
          "output_type": "stream",
          "name": "stdout",
          "text": [
            "\n",
            "\n",
            "\n"
          ]
        },
        {
          "output_type": "display_data",
          "data": {
            "text/plain": [
              "<Figure size 720x288 with 1 Axes>"
            ],
            "image/png": "[encoded data removed]"
          },
          "metadata": {
            "needs_background": "light"
          }
        },
        {
          "output_type": "stream",
          "name": "stdout",
          "text": [
            "\n",
            "\n",
            "\n"
          ]
        },
        {
          "output_type": "display_data",
          "data": {
            "text/plain": [
              "<Figure size 720x288 with 1 Axes>"
            ],
            "image/png": "[encoded data removed]"
          },
          "metadata": {
            "needs_background": "light"
          }
        },
        {
          "output_type": "stream",
          "name": "stdout",
          "text": [
            "\n",
            "\n",
            "\n"
          ]
        },
        {
          "output_type": "display_data",
          "data": {
            "text/plain": [
              "<Figure size 720x288 with 1 Axes>"
            ],
            "image/png": "[encoded data removed]"
          },
          "metadata": {
            "needs_background": "light"
          }
        },
        {
          "output_type": "stream",
          "name": "stdout",
          "text": [
            "\n",
            "\n",
            "\n"
          ]
        },
        {
          "output_type": "display_data",
          "data": {
            "text/plain": [
              "<Figure size 720x288 with 1 Axes>"
            ],
            "image/png": "[encoded data removed]"
          },
          "metadata": {
            "needs_background": "light"
          }
        },
        {
          "output_type": "stream",
          "name": "stdout",
          "text": [
            "\n",
            "\n",
            "\n"
          ]
        },
        {
          "output_type": "display_data",
          "data": {
            "text/plain": [
              "<Figure size 720x288 with 1 Axes>"
            ],
            "image/png": "[encoded data removed]"
          },
          "metadata": {
            "needs_background": "light"
          }
        },
        {
          "output_type": "stream",
          "name": "stdout",
          "text": [
            "\n",
            "\n",
            "\n"
          ]
        },
        {
          "output_type": "display_data",
          "data": {
            "text/plain": [
              "<Figure size 720x288 with 1 Axes>"
            ],
            "image/png": "[encoded data removed]"
          },
          "metadata": {
            "needs_background": "light"
          }
        },
        {
          "output_type": "stream",
          "name": "stdout",
          "text": [
            "\n",
            "\n",
            "\n"
          ]
        }
      ]
    },
    {
      "cell_type": "markdown",
      "metadata": {
        "id": "_6TcSbZo0twO"
      },
      "source": [
        "Validating the shape,normalization and correlaion between features\n",
        ".Printing the shapes of final data set of video and sesnor"
      ]
    },
    {
      "cell_type": "code",
      "execution_count": 380,
      "metadata": {
        "colab": {
          "base_uri": "https://localhost:8080/"
        },
        "id": "D0qGtoG61Rym",
        "outputId": "91d93843-8d2e-4ec3-d025-1d5bb246c50a"
      },
      "outputs": [
        {
          "output_type": "stream",
          "name": "stdout",
          "text": [
            "(660, 1)\n",
            "(780, 1)\n",
            "(2099, 1)\n",
            "(2099, 1)\n"
          ]
        }
      ],
      "source": [
        "print(final_video1_data_df.shape)\n",
        "print(final_video2_data_df.shape)\n",
        "print(final_video3_data_df.shape)\n",
        "print(final_video5_data_df.shape)"
      ]
    },
    {
      "cell_type": "code",
      "execution_count": 381,
      "metadata": {
        "colab": {
          "base_uri": "https://localhost:8080/"
        },
        "id": "sc0vM2Fj0h94",
        "outputId": "c683c91c-0037-4c51-c1e1-0c8cc4f43d55"
      },
      "outputs": [
        {
          "output_type": "stream",
          "name": "stdout",
          "text": [
            "(220, 14)\n",
            "(272, 14)\n",
            "(399, 14)\n",
            "(544, 14)\n"
          ]
        }
      ],
      "source": [
        "print(final_sensor1_data.shape)\n",
        "print(final_sensor2_data.shape)\n",
        "print(final_sensor3_data.shape)\n",
        "print(final_sensor5_data.shape)"
      ]
    },
    {
      "cell_type": "code",
      "execution_count": 382,
      "metadata": {
        "colab": {
          "base_uri": "https://localhost:8080/"
        },
        "id": "1lSDPbTh6kL8",
        "outputId": "d1664934-0855-46a4-bf7c-7a3accb904d4"
      },
      "outputs": [
        {
          "output_type": "stream",
          "name": "stdout",
          "text": [
            "1435\n"
          ]
        }
      ],
      "source": [
        "print(len(ground_truth_final))"
      ]
    },
    {
      "cell_type": "code",
      "source": [
        "fig_correlation_covarience =correlation_covarience(x_cv)\n",
        "# fig_correlation_covarience.show()"
      ],
      "metadata": {
        "colab": {
          "base_uri": "https://localhost:8080/",
          "height": 443
        },
        "id": "-Wx-BYCz7Hmc",
        "outputId": "c071d667-929a-4660-8dae-87526f5eb280"
      },
      "execution_count": 383,
      "outputs": [
        {
          "output_type": "display_data",
          "data": {
            "text/plain": [
              "<Figure size 1080x432 with 4 Axes>"
            ],
            "image/png": "[encoded data removed]"
          },
          "metadata": {
            "needs_background": "light"
          }
        }
      ]
    },
    {
      "cell_type": "code",
      "source": [
        "X_test_norm.max(axis=0)\n"
      ],
      "metadata": {
        "colab": {
          "base_uri": "https://localhost:8080/"
        },
        "id": "Dr07ymL-7S37",
        "outputId": "65b811e2-07b0-4fae-f9ac-490129947bc3"
      },
      "execution_count": 384,
      "outputs": [
        {
          "output_type": "execute_result",
          "data": {
            "text/plain": [
              "ax        0.392559\n",
              "ay        1.699782\n",
              "az        0.876859\n",
              "wx        0.184028\n",
              "wy        0.931468\n",
              "wz        1.057524\n",
              "Anglex    0.991348\n",
              "Angley    0.833115\n",
              "Anglez    0.999756\n",
              "dtype: float64"
            ]
          },
          "metadata": {},
          "execution_count": 384
        }
      ]
    },
    {
      "cell_type": "code",
      "source": [
        "X_test_norm.min(axis=0)"
      ],
      "metadata": {
        "colab": {
          "base_uri": "https://localhost:8080/"
        },
        "id": "EcgthFSi7VD8",
        "outputId": "0418927e-b9b7-4166-daae-7660f5439b05"
      },
      "execution_count": 385,
      "outputs": [
        {
          "output_type": "execute_result",
          "data": {
            "text/plain": [
              "ax       -1.023109\n",
              "ay       -0.714757\n",
              "az       -0.213810\n",
              "wx       -1.000000\n",
              "wy       -0.403155\n",
              "wz       -0.836139\n",
              "Anglex   -0.981962\n",
              "Angley   -0.904557\n",
              "Anglez   -0.999664\n",
              "dtype: float64"
            ]
          },
          "metadata": {},
          "execution_count": 385
        }
      ]
    },
    {
      "cell_type": "code",
      "source": [
        "model_best =\"RFClassifier\"\n",
        "if  model_best in best_model_name :\n",
        " plt_feature_importance = feature_importance(best_model)"
      ],
      "metadata": {
        "id": "ILsGsuH8kjnw"
      },
      "execution_count": 386,
      "outputs": []
    },
    {
      "cell_type": "markdown",
      "source": [
        "Hyper tunning for the tree based models on cross validation "
      ],
      "metadata": {
        "id": "R7DTRQwuTJFq"
      }
    },
    {
      "cell_type": "code",
      "source": [
        "# # hyper tunning did nt worked\n",
        "\n",
        "# # Random forest\n",
        "# # n_jobs=-1 to allow run it on all cores\n",
        "# params = {\n",
        "#     'n_estimators': [100, 200, 500],\n",
        "#     'criterion': ['gini', 'entropy'],\n",
        "#     'min_samples_split': [1,2,4,5],\n",
        "#     'min_samples_leaf': [1,2,4,5],\n",
        "#     'max_leaf_nodes': [4,10,20,50,None]\n",
        "# }\n",
        "\n",
        "# gs1 = GridSearchCV(RandomForestClassifier(n_jobs=-1), params, n_jobs=-1, cv=KFold(n_splits=3), scoring='r2') #roc_auc\n",
        "# gs1.fit(X_train_norm, y_train_enc_1)\n",
        "# print('Best score:', gs1.best_score_)\n",
        "# print('Best score:', gs1.best_params_)"
      ],
      "metadata": {
        "id": "6n2yeDXSPcSr"
      },
      "execution_count": 387,
      "outputs": []
    },
    {
      "cell_type": "code",
      "source": [
        "# # hyper tunning\n",
        "\n",
        "# # Random forest\n",
        "# # n_jobs=-1 to allow run it on all cores\n",
        "# params = {\n",
        "#     'n_estimators': [100, 200, 500],\n",
        "#     'criterion': ['gini', 'entropy'],\n",
        "#     'min_samples_split': [1,2,4,5],\n",
        "#     'min_samples_leaf': [1,2,4,5],\n",
        "#     'max_leaf_nodes': [4,10,20,50,None]\n",
        "# }\n",
        "\n",
        "# gs4 = GridSearchCV(RandomForestClassifier(n_jobs=-1), params, n_jobs=-1, cv=KFold(n_splits=3), scoring='r2')\n",
        "# gs4.fit(X_train_norm, y_train_enc_2)\n",
        "# print('Best score:', gs4.best_score_)\n",
        "# print('Best score:', gs4.best_params_)"
      ],
      "metadata": {
        "id": "JZtrkXeRSUC0"
      },
      "execution_count": 388,
      "outputs": []
    },
    {
      "cell_type": "code",
      "source": [
        "# # XGBoost\n",
        "# # n_jobs=-1 to allow run it on all cores\n",
        "# params = {\n",
        "#     'n_estimators': [100, 200, 500],\n",
        "#     'learning_rate': [0.01,0.05,0.1],\n",
        "#     'booster': ['gbtree', 'gblinear'],\n",
        "#     'gamma': [0, 0.5, 1],\n",
        "#     'reg_alpha': [0, 0.5, 1],\n",
        "#     'reg_lambda': [0.5, 1, 5],\n",
        "#     'base_score': [0.2, 0.5, 1]\n",
        "# }\n",
        "\n",
        "# gs2 = GridSearchCV(XGBClassifier(n_jobs=-1), params, n_jobs=-1, cv=KFold(n_splits=3), scoring='r2')\n",
        "# gs2.fit(X_train_norm, y_train_enc_1)\n",
        "\n",
        "# print('Best score:', gs2.best_score_)\n",
        "# print('Best score:', gs2.best_params_)"
      ],
      "metadata": {
        "id": "8MNuibhUPiuD"
      },
      "execution_count": 389,
      "outputs": []
    },
    {
      "cell_type": "code",
      "source": [
        "# # XGBoost\n",
        "# # n_jobs=-1 to allow run it on all cores\n",
        "# params = {\n",
        "#     'n_estimators': [100, 200, 500],\n",
        "#     'learning_rate': [0.01,0.05,0.1],\n",
        "#     'booster': ['gbtree', 'gblinear'],\n",
        "#     'gamma': [0, 0.5, 1],\n",
        "#     'reg_alpha': [0, 0.5, 1],\n",
        "#     'reg_lambda': [0.5, 1, 5],\n",
        "#     'base_score': [0.2, 0.5, 1]\n",
        "# }\n",
        "\n",
        "# gs5 = GridSearchCV(XGBClassifier(n_jobs=-1), params, n_jobs=-1, cv=KFold(n_splits=3), scoring='r2')\n",
        "# gs5.fit(X_train_norm, y_train_enc_2)\n",
        "\n",
        "# print('Best score:', gs5.best_score_)\n",
        "# print('Best score:', gs5.best_params_)"
      ],
      "metadata": {
        "id": "adpcAmsUSPA8"
      },
      "execution_count": 390,
      "outputs": []
    },
    {
      "cell_type": "code",
      "source": [
        "# # Extra Tree\n",
        "# # n_jobs=-1 to allow run it on all cores\n",
        "# params = {\n",
        "#     'n_estimators': [100, 200, 500],\n",
        "#     'criterion': ['gini', 'entropy'],\n",
        "#     'min_samples_split': [1,2,4,5],\n",
        "#     'min_samples_leaf': [1,2,4,5],\n",
        "#     'max_leaf_nodes': [4,10,20,50,None]\n",
        "# }\n",
        "\n",
        "# gs3 = GridSearchCV(ExtraTreesClassifier(n_jobs=-1), params, n_jobs=-1, cv=KFold(n_splits=3), scoring='r2')\n",
        "# gs3.fit(X_train_norm, y_train_enc_1)\n",
        "\n",
        "# print('Best score:', gs3.best_score_)\n",
        "# print('Best score:', gs3.best_params_)"
      ],
      "metadata": {
        "id": "bSRlJ-T6Pp7n"
      },
      "execution_count": 391,
      "outputs": []
    },
    {
      "cell_type": "code",
      "source": [
        "# # Extra Tree\n",
        "# # n_jobs=-1 to allow run it on all cores\n",
        "# params = {\n",
        "#     'n_estimators': [100, 200, 500],\n",
        "#     'criterion': ['gini', 'entropy'],\n",
        "#     'min_samples_split': [1,2,4,5],\n",
        "#     'min_samples_leaf': [1,2,4,5],\n",
        "#     'max_leaf_nodes': [4,10,20,50,None]\n",
        "# }\n",
        "\n",
        "# gs6 = GridSearchCV(ExtraTreesClassifier(n_jobs=-1), params, n_jobs=-1, cv=KFold(n_splits=3), scoring='r2')\n",
        "# gs6.fit(X_train_norm, y_train_enc_2)\n",
        "\n",
        "# print('Best score:', gs6.best_score_)\n",
        "# print('Best score:', gs6.best_params_)"
      ],
      "metadata": {
        "id": "c25qkz1KSqZS"
      },
      "execution_count": 392,
      "outputs": []
    },
    {
      "cell_type": "code",
      "source": [
        "\n",
        "\n",
        "# votes = [\n",
        "#     ('rf', gs1.best_estimator_),\n",
        "#     ('xgb', gs2.best_estimator_),\n",
        "#     ('xt', gs3.best_estimator_)\n",
        "# ]\n",
        "\n",
        "# # soft voting based on weights\n",
        "# votesClass = VotingClassifier(estimators=votes, voting='soft', n_jobs=-1)\n",
        "# votesClass_cv = cross_validate(votesClass, X_train_norm, y_train_enc_1, cv=KFold(3, random_state=123))\n",
        "# votesClass.fit(X_train_norm, y_train_enc_1)\n",
        "\n",
        "# votesClass_cv"
      ],
      "metadata": {
        "id": "J3gKPmsMQdJ6"
      },
      "execution_count": 393,
      "outputs": []
    },
    {
      "cell_type": "code",
      "source": [
        "# model = votesClass\n",
        "# #model.fit(X_train, y_train)\n",
        "# y_train_hat = model.predict(X_train_norm)\n",
        "# y_test_hat = model.predict(X_test_norm)"
      ],
      "metadata": {
        "id": "7Ahayx4sVCDm"
      },
      "execution_count": 394,
      "outputs": []
    },
    {
      "cell_type": "code",
      "source": [
        "# print(model)\n",
        "# print('Train performance')\n",
        "# print('-------------------------------------------------------')\n",
        "# print(classification_report(y_train_enc_1, y_train_hat))\n",
        "\n",
        "# print('Test performance')\n",
        "# print('-------------------------------------------------------')\n",
        "# print(classification_report(y_test_enc_1, y_test_hat))\n",
        "\n",
        "# print('R2 score')\n",
        "# print('-------------------------------------------------------')\n",
        "# print(r2_score(y_test_enc_1, y_test_hat))\n",
        "# print('')"
      ],
      "metadata": {
        "id": "TQ9nAuphVxla"
      },
      "execution_count": 395,
      "outputs": []
    },
    {
      "cell_type": "code",
      "source": [
        "\n",
        "# votes = [\n",
        "#     ('rf', gs4.best_estimator_),\n",
        "#     ('xgb', gs5.best_estimator_),\n",
        "#     ('xt', gs6.best_estimator_)\n",
        "# ]\n",
        "\n",
        "# # soft voting based on weights\n",
        "# votesClass = VotingClassifier(estimators=votes, voting='soft', n_jobs=-1)\n",
        "# votesClass_cv = cross_validate(votesClass, X_train_norm, y_train_enc_2, cv=KFold(3, random_state=123))\n",
        "# votesClass.fit(X_train_norm, y_train_enc_2)\n",
        "\n",
        "# votesClass_cv"
      ],
      "metadata": {
        "id": "xDcKPb4SS26L"
      },
      "execution_count": 396,
      "outputs": []
    },
    {
      "cell_type": "code",
      "source": [
        "# model = votesClass\n",
        "# #model.fit(X_train, y_train)\n",
        "# y_train_hat = model.predict(X_train_norm)\n",
        "# y_test_hat = model.predict(X_test_norm)"
      ],
      "metadata": {
        "id": "w3qqKatpVMEs"
      },
      "execution_count": 397,
      "outputs": []
    },
    {
      "cell_type": "code",
      "source": [
        "# print(model)\n",
        "# print('Train performance')\n",
        "# print('-------------------------------------------------------')\n",
        "# print(classification_report(y_train_enc_2, y_train_hat))\n",
        "\n",
        "# print('Test performance')\n",
        "# print('-------------------------------------------------------')\n",
        "# print(classification_report(y_test_enc_2, y_test_hat))\n",
        "\n",
        "# print('R2 score')\n",
        "# print('-------------------------------------------------------')\n",
        "# print(r2_score(y_test_enc_2, y_test_hat))\n",
        "# print('')"
      ],
      "metadata": {
        "id": "cC_37zXLVv_8"
      },
      "execution_count": 398,
      "outputs": []
    },
    {
      "cell_type": "markdown",
      "source": [
        "Accuracy and loss for train model for Neural networks like MLP,LSTM"
      ],
      "metadata": {
        "id": "x3i7Fl7QZskj"
      }
    },
    {
      "cell_type": "code",
      "execution_count": 399,
      "metadata": {
        "id": "U9aDjNFfnPhg"
      },
      "outputs": [],
      "source": [
        "# # print out training and testing errors\n",
        "# print('loss = '+ str(max(history.history[\"loss\"])))\n",
        "# print('val_loss = '+ str(max(history.history[\"val_loss\"])))\n",
        "# print('accuracy = '+ str(max(history.history[\"accuracy\"])*100)) #categorical_accuracy\n",
        "# print(\"\\n\")"
      ]
    },
    {
      "cell_type": "markdown",
      "source": [
        "Extras"
      ],
      "metadata": {
        "id": "zIjjb4J6ZGjG"
      }
    },
    {
      "cell_type": "markdown",
      "source": [
        "Cross validation verfication for models"
      ],
      "metadata": {
        "id": "KrTI4I_DZjnl"
      }
    },
    {
      "cell_type": "code",
      "execution_count": 400,
      "metadata": {
        "id": "1PRpgiWrrHoV"
      },
      "outputs": [],
      "source": [
        "# # RFClassifier 84 6 features 500 \n",
        "\n",
        "# # configure the cross-validation procedure\n",
        "# cv_inner = KFold(n_splits=5, shuffle=True, random_state=1)\n",
        "# # define search space\n",
        "# space = dict()\n",
        "# space['n_estimators'] = [10, 100, 500,1000,1500,2000]\n",
        "# space['max_features'] = [ 6,9]\n",
        "# # define search\n",
        "# search = GridSearchCV(model, space, scoring='accuracy', n_jobs=1, cv=cv_inner, refit=True)\n",
        "# # configure the cross-validation procedure\n",
        "# cv_outer = KFold(n_splits=10, shuffle=True)\n",
        "# # execute the nested cross-validation\n",
        "# scores = cross_val_score(search, x_cv, y, scoring='accuracy', cv=cv_outer, n_jobs=-1)\n",
        "# # report performance\n",
        "# print('Accuracy: %.3f (%.3f)' % (mean(scores), std(scores)))\n",
        "\n",
        "# #scores =cross_val_score(model, x_cv, y, cv=5)\n",
        "# #KNN_classifier,SVC when cv =5\n",
        "# #skf = StratifiedKFold(n_splits=3)\n",
        "# #kf = KFold(n_splits=3) kf.split(X, y)"
      ]
    },
    {
      "cell_type": "markdown",
      "metadata": {
        "id": "dox6o0hp8m4y"
      },
      "source": [
        "Manual code without using cross_val_score"
      ]
    },
    {
      "cell_type": "code",
      "execution_count": 401,
      "metadata": {
        "id": "RnKUiQjBvxsT"
      },
      "outputs": [],
      "source": [
        "# # configure the cross-validation procedure\n",
        "# cv_outer = KFold(n_splits=10, shuffle=True, random_state=1)\n",
        "# # enumerate splits\n",
        "# outer_results = list()\n",
        "# for train_ix, test_ix in cv_outer.split(x_cv):\n",
        "#  # split data\n",
        "#  X_train, X_test = x_cv[train_ix, :], x_cv[test_ix, :]\n",
        "#  y_train, y_test = y[train_ix], y[test_ix]\n",
        "#  # configure the cross-validation procedure\n",
        "#  cv_inner = KFold(n_splits=5, shuffle=True, random_state=1)\n",
        "#  # define the model\n",
        "#  model = RandomForestClassifier(random_state=1)\n",
        "#  # define search space\n",
        "#  space = dict()\n",
        "#  space['n_estimators'] = [10, 100, 500,1000,1500,2000]\n",
        "#  space['max_features'] = [ 6,9]\n",
        "#  # define search\n",
        "#  search = GridSearchCV(model, space, scoring='accuracy', cv=cv_inner, refit=True)\n",
        "#  # execute search\n",
        "#  result = search.fit(X_train, y_train)\n",
        "#  # get the best performing model fit on the whole training set\n",
        "#  best_model = result.best_estimator_\n",
        "#  # evaluate model on the hold out dataset\n",
        "#  yhat = best_model.predict(X_test)\n",
        "#  # evaluate the model\n",
        "#  acc = accuracy_score(y_test, yhat)\n",
        "#  # store the result\n",
        "#  outer_results.append(acc)\n",
        "#  # report progress\n",
        "#  print('>acc=%.3f, est=%.3f, cfg=%s' % (acc, result.best_score_, result.best_params_))\n",
        "# # summarize the estimated performance of the model\n",
        "# print('Accuracy: %.3f (%.3f)' % (mean(outer_results), std(outer_results)))"
      ]
    },
    {
      "cell_type": "markdown",
      "metadata": {
        "id": "nuMhK-iXvW0N"
      },
      "source": [
        "Find best k for KNN classifier and regressor"
      ]
    },
    {
      "cell_type": "code",
      "execution_count": 402,
      "metadata": {
        "id": "auWYJK-zvJ1T"
      },
      "outputs": [],
      "source": [
        "# # for ground truth perfect or goog\n",
        "# # knn regressor k=15\n",
        "# # KNN classifer k=7\n",
        "# # kmean 2\n",
        "\n",
        "# # for ground truth attack defense\n",
        "# # knn regressor k=94\n",
        "# # KNN classifer k=290,292,303\n",
        "# # kmean 2\n",
        "# error = []\n",
        "# end_range=500\n",
        "# # Calculating MAE error for K values between 1 and 39\n",
        "# for i in range(1, end_range):\n",
        "#     knn = KMeans(n_clusters=i)\n",
        "#     # knn = KNeighborsClassifier(n_neighbors=i)\n",
        "#     # knn = KNeighborsRegressor(n_neighbors=i)\n",
        "#     knn.fit(X_train_norm, y_train_enc_1)\n",
        "#     pred_i = knn.predict(X_test_norm)\n",
        "#     mae = mean_squared_error(y_test_enc_1, pred_i)\n",
        "#     error.append(mae)\n",
        "\n",
        "# plt.figure(figsize=(11, 6))\n",
        "# plt.plot(range(1, end_range), error, color='red', \n",
        "#          linestyle='dashed', marker='o',\n",
        "#          markerfacecolor='blue', markersize=10)\n",
        "         \n",
        "# plt.title('K Value MAE')\n",
        "# plt.xlabel('K Value')\n",
        "# plt.ylabel('Mean Absolute Error')"
      ]
    },
    {
      "cell_type": "code",
      "source": [
        "# def find_best_k(gt,model_name):\n",
        "#   n=0\n",
        "#   best_n=0\n",
        "#   end_range=10\n",
        "#   best_mae=100000000000.0\n",
        "#   if gt ==\"shot_type\":\n",
        "#     error = []\n",
        "\n",
        "#     # Calculating MAE error for K values between 1 and 39\n",
        "#     for i in range(1, end_range):\n",
        "#       # knn = KMeans(n_clusters=i)\n",
        "#       # knn = KNeighborsClassifier(n_neighbors=i)\n",
        "#       knn = KNeighborsRegressor(n_neighbors=i)\n",
        "#       knn.fit(X_train_norm, y_train_enc_1)\n",
        "#       pred_i = knn.predict(X_test_norm)\n",
        "#       mae = mean_squared_error(y_test_enc_1, pred_i)\n",
        "#       if mae < best_mae:\n",
        "#         n=i\n",
        "#       # error.append(mae)\n",
        "#     # #ploting for better understanding\n",
        "#     # plt.figure(figsize=(11, 6))\n",
        "#     # plt.plot(range(1, end_range), error, color='red', \n",
        "#     #      linestyle='dashed', marker='o',\n",
        "#     #      markerfacecolor='blue', markersize=10)\n",
        "         \n",
        "#     # plt.title('K Value MAE')\n",
        "#     # plt.xlabel('K Value')\n",
        "#     # plt.ylabel('Mean Absolute Error')\n",
        "#   else:\n",
        "#     error = []\n",
        "#     # Calculating MAE error for K values between 1 and 39\n",
        "#     for i in range(1, end_range):\n",
        "#       # knn = KMeans(n_clusters=i)\n",
        "#       # knn = KNeighborsClassifier(n_neighbors=i)\n",
        "#       knn = KNeighborsRegressor(n_neighbors=i)\n",
        "#       knn.fit(X_train_norm, y_train_enc_2)\n",
        "#       pred_i = knn.predict(X_test_norm)\n",
        "#       mae = mean_squared_error(y_test_enc_2, pred_i)\n",
        "#       # error.append(mae)\n",
        "#     # #ploting for better understanding\n",
        "#     # plt.figure(figsize=(11, 6))\n",
        "#     # plt.plot(range(1, end_range), error, color='red', \n",
        "#     #      linestyle='dashed', marker='o',\n",
        "#     #      markerfacecolor='blue', markersize=10)\n",
        "         \n",
        "#     # plt.title('K Value MAE')\n",
        "#     # plt.xlabel('K Value')\n",
        "#     # plt.ylabel('Mean Absolute Error')\n",
        "  # return n"
      ],
      "metadata": {
        "id": "WTNWH1jadTbw"
      },
      "execution_count": 403,
      "outputs": []
    },
    {
      "cell_type": "markdown",
      "metadata": {
        "id": "fNPE_WmC5oa5"
      },
      "source": [
        "download folder from colab to local"
      ]
    },
    {
      "cell_type": "code",
      "execution_count": 404,
      "metadata": {
        "id": "ItI2cccl5b-T"
      },
      "outputs": [],
      "source": [
        "#  !zip -r shot1.zip /content/images"
      ]
    },
    {
      "cell_type": "code",
      "execution_count": 405,
      "metadata": {
        "id": "1O0JPRJm6Jxw"
      },
      "outputs": [],
      "source": [
        "# def normalization(X,norm=\"mean_std\"):\n",
        "#   if norm==\"mean_std\":\n",
        "#     X[cols_main_norm] = X[cols_main_norm].apply(lambda x: (x - x.mean()) / np.std(x))\n",
        "\n",
        "#   if norm==\"min_max\":\n",
        "#     #df.apply(lambda x: (x - np.mean(x)) / (np.max(x) - np.min(x)))\n",
        "#     X[cols_main_norm] = X[cols_main_norm].apply(lambda x: (x - np.min(x)) / (np.max(x) - np.min(x)))\n",
        "  \n",
        "#   if norm==\"max\":\n",
        "#     X[cols_main_norm] = X[cols_main_norm].apply(lambda x: (x  / np.max(x)))\n",
        "\n",
        "#   return X"
      ]
    },
    {
      "cell_type": "code",
      "execution_count": 406,
      "metadata": {
        "id": "pjEg4UAj6U2m"
      },
      "outputs": [],
      "source": [
        "# def normalization_1(X,norm=\"mean_std\"):\n",
        "#   if norm==\"mean_std\":\n",
        "#     X[cols_main_norm] = X[cols_main_norm].apply(lambda x: (x - np.mean(x, axis = 0)) / np.std(x, axis = 0))\n",
        "\n",
        "#   if norm==\"min_max\":\n",
        "#     #df.apply(lambda x: (x - np.mean(x)) / (np.max(x) - np.min(x)))\n",
        "#     X[cols_main_norm] = X[cols_main_norm].apply(lambda x: (x - x.min(axis=0)) / (x.max(axis=0) - x.min(axis=0)))\n",
        "  \n",
        "#   if norm==\"max\":\n",
        "#     X[cols_main_norm] = X[cols_main_norm].apply(lambda x: (x  / x.max(axis=0)))\n",
        "  \n",
        "#   return X"
      ]
    },
    {
      "cell_type": "markdown",
      "metadata": {
        "id": "l5p-VvdTicHm"
      },
      "source": [
        "Method 1 to find video and sensor shot cropping"
      ]
    },
    {
      "cell_type": "code",
      "execution_count": 407,
      "metadata": {
        "id": "3uG4hJP-i-4E"
      },
      "outputs": [],
      "source": [
        "# #shots time stamp in video\n",
        "# video1_shots =[]\n",
        "# video2_shots =[]\n",
        "# video3_shots =[]\n",
        "# video5_shots =[]\n",
        "\n",
        "\n",
        "# # video 1\n",
        "# for i,(et,st) in enumerate(zip(video1_et_s,video1_st_s)):\n",
        "#   shot_time= (((st+et)/2)*1000)/video_granularity\n",
        "#   # if i<5:\n",
        "#   #  print(int(shot_time))\n",
        "#   video1_shots.append(int(shot_time))\n",
        "\n",
        "# # video 2\n",
        "# for i,(et,st) in enumerate(zip(video2_et_s,video2_st_s)):\n",
        "#   shot_time= (((st+et)/2)*1000)/video_granularity\n",
        "#   # if i<5:\n",
        "#   #  print(int(shot_time))\n",
        "#   video2_shots.append(int(shot_time))\n",
        "\n",
        "# # video 3\n",
        "# for i,(et,st) in enumerate(zip(video3_et_s,video3_st_s)):\n",
        "#   shot_time= (((st+et)/2)*1000)/video_granularity\n",
        "#   # if i<5:\n",
        "#   #  print(int(shot_time))\n",
        "#   video3_shots.append(int(shot_time))\n",
        "\n",
        "# # video 5\n",
        "# for i,(et,st) in enumerate(zip(video5_et_s,video5_st_s)):\n",
        "#   shot_time= (((st+et)/2)*1000)/video_granularity\n",
        "#   # if i<5:\n",
        "#   #  print(int(shot_time))\n",
        "#   video5_shots.append(int(shot_time))\n",
        "\n",
        "# #video 1\n",
        "# rslt_video1_index = Sensor_data_1_align.index[Sensor_data_1_align['Date_Time'] == video1_save_time][:1].tolist()\n",
        "\n",
        "# # Sensor_data_1_align.iloc[rslt_video1_index]\n",
        "# # vidoe 2\n",
        "# rslt_video2_index = Sensor_data_2_align.index[Sensor_data_2_align['Date_Time'] == video2_save_time][:1].tolist()\n",
        "# #vidoe 3\n",
        "# rslt_video3_index = Sensor_data_3_align.index[Sensor_data_3_align['Date_Time'] == video3_save_time][:1].tolist()\n",
        "# #video 5\n",
        "# rslt_video5_index = Sensor_data_5_align.index[Sensor_data_5_align['Date_Time'] == video5_save_time][:1].tolist()\n",
        "\n",
        "# #shots time stamp in sensor data\n",
        "# Sensor_data1_shots =[]\n",
        "# Sensor_data2_shots =[]\n",
        "# Sensor_data3_shots =[]\n",
        "# Sensor_data5_shots =[]\n",
        "\n",
        "# # video 1 & sensor data 1\n",
        "# for i,(et,st) in enumerate(zip(video1_et_s,video1_st_s)):\n",
        "#   shot_time= rslt_video1_index[0] + ((((st+et)/2)*1000)/sensor_granularity)\n",
        "#   Sensor_data1_shots.append(int(shot_time))\n",
        "\n",
        "# # video 2 & sensor data 1\n",
        "# for i,(et,st) in enumerate(zip(video2_et_s,video2_st_s)):\n",
        "#   shot_time=  ((((st+et)/2)*1000)/sensor_granularity)\n",
        "#   Sensor_data2_shots.append(int(shot_time))\n",
        "\n",
        "# # video 3 & sensor data 1\n",
        "# for i,(et,st) in enumerate(zip(video3_et_s,video3_st_s)):\n",
        "#   shot_time= ((((st+et)/2)*1000)/sensor_granularity)\n",
        "#   Sensor_data3_shots.append(int(shot_time))\n",
        "\n",
        "# # video 5 & sensor data 2\n",
        "# for i,(et,st) in enumerate(zip(video5_et_s,video5_st_s)):\n",
        "#   shot_time= rslt_video5_index[0] + ((((st+et)/2)*1000)/sensor_granularity)\n",
        "#   Sensor_data5_shots.append(int(shot_time))\n",
        "\n",
        "# # copying to other list\n",
        "\n",
        "# video1_shots_start_index = video1_shots.copy()\n",
        "# video2_shots_start_index = video2_shots.copy()\n",
        "# video3_shots_start_index = video3_shots.copy()\n",
        "# video5_shots_start_index = video5_shots.copy()\n",
        "\n",
        "\n",
        "# Sensor_data1_shots_start_index = Sensor_data1_shots.copy()\n",
        "# Sensor_data2_shots_start_index = Sensor_data2_shots.copy()\n",
        "# Sensor_data3_shots_start_index = Sensor_data3_shots.copy()\n",
        "# Sensor_data5_shots_start_index = Sensor_data5_shots.copy()\n",
        "\n",
        "# #finding the start index\n",
        "# video1_shots_start_index = [x - video_datapoints for x in video1_shots_start_index]\n",
        "# video2_shots_start_index = [x - video_datapoints for x in video2_shots_start_index]\n",
        "# video3_shots_start_index = [x - video_datapoints for x in video3_shots_start_index]\n",
        "# video5_shots_start_index = [x - video_datapoints for x in video5_shots_start_index]\n",
        "\n",
        "# #sensor data index\n",
        "# Sensor_data1_shots_start_index = [x - sensor_datapoints for x in Sensor_data1_shots_start_index]\n",
        "# Sensor_data2_shots_start_index = [x - sensor_datapoints for x in Sensor_data2_shots_start_index]\n",
        "# Sensor_data1_shots_start_index = [x - sensor_datapoints for x in Sensor_data1_shots_start_index]\n",
        "# Sensor_data2_shots_start_index = [x - sensor_datapoints for x in Sensor_data2_shots_start_index]\n",
        "\n",
        "# final_video1_data = []\n",
        "# final_video2_data = []\n",
        "# final_video3_data = []\n",
        "# final_video5_data = []\n",
        "\n",
        "\n",
        "# #video 1\n",
        "# count=0\n",
        "# for i,index in enumerate(video1_shots_start_index):\n",
        "#     for j,value in enumerate(timestamps_1_data):\n",
        "#       if count <120:\n",
        "#         final_video1_data.append(timestamps_1_data[index+count])\n",
        "#         count=count+1\n",
        "#     count=0\n",
        "\n",
        "# #video 2\n",
        "# count=0\n",
        "# for i,index in enumerate(video2_shots_start_index):\n",
        "#     for j,value in enumerate(timestamps_2_data):\n",
        "#       if count <120:\n",
        "#         final_video2_data.append(timestamps_2_data[index+count])\n",
        "#         count=count+1\n",
        "#     count=0\n",
        "\n",
        "\n",
        "# #video 3\n",
        "# count=0\n",
        "# for i,index in enumerate(video3_shots_start_index):\n",
        "#     for j,value in enumerate(timestamps_3_data):\n",
        "#       if count <120:\n",
        "#         final_video3_data.append(timestamps_3_data[index+count])\n",
        "#         count=count+1\n",
        "#     count=0\n",
        "\n",
        "\n",
        "# #video 5\n",
        "# count=0\n",
        "# for i,index in enumerate(video5_shots_start_index):\n",
        "#     for j,value in enumerate(timestamps_5_data):\n",
        "#       if count <120:\n",
        "#         final_video5_data.append(timestamps_5_data[index+count])\n",
        "#         count=count+1\n",
        "#     count=0\n",
        "\n",
        "# # need to modify\n",
        "\n",
        "# final_sensor1_data = pd.DataFrame()\n",
        "# final_sensor2_data = pd.DataFrame()\n",
        "# final_sensor3_data = pd.DataFrame()\n",
        "# final_sensor5_data = pd.DataFrame()\n",
        "\n",
        "\n",
        "# for i,index in enumerate(Sensor_data1_shots_start_index):\n",
        "#    temp_df=Sensor_data_1_align.iloc[index:index+22]\n",
        "#    final_sensor1_data = final_sensor1_data.append(temp_df, ignore_index=True)\n",
        "\n",
        "# for i,index in enumerate(Sensor_data2_shots_start_index):\n",
        "#    temp_df=Sensor_data_2_align.iloc[index:index+22]\n",
        "#    final_sensor2_data = final_sensor2_data.append(temp_df, ignore_index=True)\n",
        "\n",
        "# for i,index in enumerate(Sensor_data3_shots_start_index):\n",
        "#    temp_df=Sensor_data_3_align.iloc[index:index+22]\n",
        "#   #  print(temp_df.shape)\n",
        "#    final_sensor3_data = final_sensor3_data.append(temp_df, ignore_index=True)\n",
        "\n",
        "# for i,index in enumerate(Sensor_data5_shots_start_index):\n",
        "#    temp_df=Sensor_data_5_align.iloc[index:index+22]\n",
        "#    final_sensor5_data = final_sensor5_data.append(temp_df, ignore_index=True)"
      ]
    }
  ],
  "metadata": {
    "colab": {
      "provenance": []
    },
    "kernelspec": {
      "display_name": "Python 3",
      "name": "python3"
    },
    "language_info": {
      "name": "python"
    }
  },
  "nbformat": 4,
  "nbformat_minor": 0
}